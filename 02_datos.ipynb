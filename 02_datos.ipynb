{
 "cells": [
  {
   "cell_type": "markdown",
   "metadata": {},
   "source": [
    "# Datos\n",
    "\n",
    "Los datos son el elemento sobre el cual aplicamos las diferentes técnicas para la obtención de información sobre estos. \n",
    "\n",
    "En este notebook veremos maneras de cargar los datos de distintas fuentes y su gestión:\n",
    "\n",
    "* Conjuntos de datos proporcionados por scikit\n",
    "* Carga de conjuntos de datos usando Pandas\n",
    "* Conjuntos de datos de openml\n",
    "* Otros formatos\n",
    "\n",
    "\n",
    "[Enlace a la documentación de scikit\n",
    "](https://scikit-learn.org/stable/datasets/index.html)\n"
   ]
  },
  {
   "cell_type": "code",
   "execution_count": 1,
   "metadata": {},
   "outputs": [],
   "source": [
    "# Vamos a cargar las librerias básicas\n",
    "%matplotlib inline\n",
    "import pandas as pd\n",
    "import numpy as np\n"
   ]
  },
  {
   "cell_type": "markdown",
   "metadata": {},
   "source": [
    "## Conjuntos de datos proporcionados por scikit\n",
    "\n",
    "Para empezar a tomar contacto con conjuntos de datos que ya nos vienen preparados con la misma libreria. \n",
    "\n",
    "Son conjuntos muy populares para el aprendizaje. Uno de ellos, que probablemente ya conoceis, es el conjunto de datos Iris.\n",
    "\n",
    "[Enlace](https://scikit-learn.org/stable/datasets/index.html#toy-datasets)"
   ]
  },
  {
   "cell_type": "code",
   "execution_count": null,
   "metadata": {},
   "outputs": [],
   "source": [
    "from sklearn.datasets import load_iris\n",
    "\n",
    "data = load_iris() # Cargamos un diccionario\n",
    "\n",
    "data.keys()"
   ]
  },
  {
   "cell_type": "code",
   "execution_count": null,
   "metadata": {},
   "outputs": [],
   "source": [
    "# Exploración del conjunto de datos\n",
    "\n",
    "\n",
    "data['data'].shape"
   ]
  },
  {
   "cell_type": "markdown",
   "metadata": {},
   "source": [
    "## Carga de conjuntos de datos usando pandas\n",
    "\n",
    "Realizaremos la carga de los diferentes conjuntos de datos, usando la libreria Pandas. Esto nos permitirá tener una representación en forma de tabla (filas y columnas).\n",
    "\n",
    "\n",
    "[Repositorio](https://archive.ics.uci.edu/ml/machine-learning-databases/)"
   ]
  },
  {
   "cell_type": "code",
   "execution_count": null,
   "metadata": {},
   "outputs": [],
   "source": [
    "url_info = 'https://archive.ics.uci.edu/ml/machine-learning-databases/zoo/zoo.names'\n",
    "url_data= 'https://archive.ics.uci.edu/ml/machine-learning-databases/zoo/zoo.data'"
   ]
  },
  {
   "cell_type": "code",
   "execution_count": null,
   "metadata": {},
   "outputs": [],
   "source": [
    "!pip install requests"
   ]
  },
  {
   "cell_type": "code",
   "execution_count": null,
   "metadata": {},
   "outputs": [],
   "source": [
    "import requests\n",
    "response = requests.get(url_info)\n",
    "print(response.text)"
   ]
  },
  {
   "cell_type": "code",
   "execution_count": null,
   "metadata": {},
   "outputs": [],
   "source": [
    "# Leemos los datos que se encuentran en formato csv y lo cargamos en un dataframe\n",
    "df = pd.read_csv(url_data, header=None)\n",
    "df.columns = [\"animal name\", \"hair\", \"feathers\",\"eggs\",\"milk\",\"airborne\",\"aquatic\",\"predator\",\"toothed\",\"backbone\",\"breathes\",\"venomous\",\"fins\",\"legs\",\"tail\",\"domestic\",\"catsize\",\"type\"]\n",
    "df"
   ]
  },
  {
   "cell_type": "markdown",
   "metadata": {},
   "source": [
    "Como habéis podido observar los dataframes nos son muy prácticos para gestionar los datos ya que nos permiten trabajar con una representación en forma de tabla. Nos ofrece una manera sencilla de realizar el trabajo con los datos antes de usar las técnicas de aprendizaje máquina.\n",
    "\n",
    "Algunas operaciones de filtrado que podemos realizar:"
   ]
  },
  {
   "cell_type": "code",
   "execution_count": null,
   "metadata": {},
   "outputs": [],
   "source": [
    "df[\"animal name\"]\n",
    "\n",
    "new_df = df[[\"animal name\", \"eggs\"]]\n",
    "\n",
    "new_df[:10]\n"
   ]
  },
  {
   "cell_type": "markdown",
   "metadata": {},
   "source": [
    "\n",
    "**Nota:** En el siguiente enlace ([módulo 2](https://github.com/bmalcover/MADM2019)) contiene un pequeño tutorial de **Pandas** que puede ser útil seguir.\n",
    "\n"
   ]
  },
  {
   "cell_type": "markdown",
   "metadata": {},
   "source": [
    "Evidentemente tambien podemos cargar ficheros que tengamos en el disco, vamos a verlo con un ejemplo.\n"
   ]
  },
  {
   "cell_type": "code",
   "execution_count": null,
   "metadata": {},
   "outputs": [],
   "source": [
    "df_who = pd.read_csv(\"data/WHO.csv\")\n",
    "df_who.head() # muestra las 5 primeras filas"
   ]
  },
  {
   "cell_type": "markdown",
   "metadata": {},
   "source": [
    "Es evidente, que nuestras fuentes de datos no van a ser solamente ficheros CSV. Pandas permite la lectura de otros tipos de fichero: [documentación lectura usando Pandas](https://pandas.pydata.org/pandas-docs/stable/reference/io.html)"
   ]
  },
  {
   "cell_type": "markdown",
   "metadata": {},
   "source": [
    "## Openml\n",
    "[openml.org](https://www.openml.org/) es un repositorio público para datos y experimentos de aprendizaje automático, que permite a todos cargar conjuntos de datos abiertos.\n",
    "\n",
    "sklearn.datasets puede descargar conjuntos de datos del repositorio *openml* utilizando la función:\n",
    "\n",
    "```\n",
    "sklearn.datasets.fetch_openml\n",
    "```"
   ]
  },
  {
   "cell_type": "code",
   "execution_count": null,
   "metadata": {},
   "outputs": [],
   "source": [
    "# Vamos a cargar un dataset\n",
    "from sklearn.datasets import fetch_openml\n",
    "\n",
    "credit = fetch_openml(name='credit-g')\n",
    "\n",
    "credit.keys()\n"
   ]
  },
  {
   "cell_type": "markdown",
   "metadata": {},
   "source": [
    "\n",
    "Al final, nos interesa acabar la carga de datos con una matriz donde las filas son las observaciones y las columnas las diferentes características o *features* de los datos."
   ]
  },
  {
   "cell_type": "markdown",
   "metadata": {},
   "source": [
    "## Otros formatos de datos\n",
    "\n",
    "Es evidente que no todos los datos que vamos a usar se adaptarán a la estructura descrita en este módulo. Un caso claro, es el uso de las técnicas del curso aplicadas a visión por computador.\n",
    "\n",
    "El tratamiento de imágenes debe realizarse con bibliotecas específicas como pueden ser: **opencv** o **skimage**.\n",
    "\n",
    "El tratamiento de datos provenientes de audio puede realizarse con la biblioteca: **scipy.io.wavfile.read**"
   ]
  }
 ],
 "metadata": {
  "kernelspec": {
   "display_name": "Python 3",
   "language": "python",
   "name": "python3"
  },
  "language_info": {
   "codemirror_mode": {
    "name": "ipython",
    "version": 3
   },
   "file_extension": ".py",
   "mimetype": "text/x-python",
   "name": "python",
   "nbconvert_exporter": "python",
   "pygments_lexer": "ipython3",
   "version": "3.7.4"
  }
 },
 "nbformat": 4,
 "nbformat_minor": 2
}
