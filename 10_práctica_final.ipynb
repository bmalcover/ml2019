{
 "cells": [
  {
   "cell_type": "markdown",
   "metadata": {},
   "source": [
    "# Práctica final\n",
    "\n",
    "El trabajo a realizar en esta práctica consistirá en realizar el ciclo completo de aprendizaje automático. \n",
    "\n",
    "Se os proporcionará un conjunto de datos al azar y debereis intentar resolver el problema que se plantea con los datos. \n",
    "\n",
    "Para llegar a la solución final se espera que realiceis los siguientes pasos:\n",
    "\n",
    "* Análisis del conjunto de datos.\n",
    "* Tratamiento de las características.\n",
    "* Filtrado de las características.\n",
    "* Aplicación de los métodos de aprendizaje automàtico.\n",
    "* Evaluación de los resultados.\n",
    "* Discusión y conclusiones.\n",
    "\n",
    "\n",
    "\n",
    "\n",
    "\n",
    "**Entrega**\n",
    "\n",
    "La entrega final consistirá en un informe (*pdf*) en el que se pueda observar el código realizado para llegar a la solución final, junto con la explicación de cada una de las decisiones tomadas.\n",
    "\n",
    "Tambien se deberá hacer un análisis final en el que se justifiquen los resultados obtenidos.\n",
    "\n",
    "**Fecha de entrega**\n",
    "\n",
    "*Soft deadline* 10 de diciembre"
   ]
  }
 ],
 "metadata": {
  "kernelspec": {
   "display_name": "Python 3",
   "language": "python",
   "name": "python3"
  },
  "language_info": {
   "codemirror_mode": {
    "name": "ipython",
    "version": 3
   },
   "file_extension": ".py",
   "mimetype": "text/x-python",
   "name": "python",
   "nbconvert_exporter": "python",
   "pygments_lexer": "ipython3",
   "version": "3.7.4"
  }
 },
 "nbformat": 4,
 "nbformat_minor": 2
}
