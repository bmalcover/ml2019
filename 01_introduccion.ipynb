{
 "cells": [
  {
   "cell_type": "markdown",
   "metadata": {},
   "source": [
    "# Introducción al machine learning con Python\n",
    "---\n",
    "\n",
    "Definiremos el marco tecnológico con el que trabajaremos durante el curso"
   ]
  },
  {
   "cell_type": "markdown",
   "metadata": {},
   "source": [
    "## Python\n",
    "\n",
    "Python es un lenguaje de programación interpretado cuya filosofía hace hincapié en una sintaxis que favorezca un código legible.\n",
    "\n",
    "Actualmen\n",
    "\n",
    "El lenguaje de programación Python se organiza de la siguiente manera:\n",
    "* Un **núcleo** que contiene la base del lenguaje.\n",
    "* Un **interprete** que transforma nuestro código fuente en programas ejecutables.\n",
    "* Un gran conjunto de **librerias** que añaden diferentes funcionalidades al núcleo.\n",
    "\n",
    "Recursos:\n",
    "* [Real Python](https://realpython.com/)\n",
    "* [Tutorial](https://github.com/bmalcover/MADM2018/tree/master/primeros_pasos)\n"
   ]
  },
  {
   "cell_type": "markdown",
   "metadata": {},
   "source": [
    "## Gestor de entornos y librerias\n",
    "\n",
    "Aunque el lenguaje se puede instalar de forma individual, es aconsejable instalar un gestor que nos ayude a controlar los diferentes entornos de programación y las librerias. Se recomienda el uso del gestor **conda**.\n",
    "\n",
    "*Conda is a package, dependency and environment management for any language*\n",
    "\n",
    "Este se presenta en dos distribuciones:\n",
    "\n",
    "* [Anaconda](https://www.anaconda.com/distribution/): Distribución completa con una GUI para gestionar los paquetes y IDE instalados.\n",
    "* [miniconda](https://docs.conda.io/en/latest/miniconda.html): (*instalación mínima*) contiene el administrador de paquetes conda y el núcleo de Python. Una vez que se instala Miniconda, se puede usar el comando conda para instalar cualquier otro paquete y crear entornos.\n",
    "\n",
    "\n",
    "### Entorno de programación\n",
    "\n",
    "* Debido a las caratcerísticas particulares de los programas que realizaremos y el lenguaje que vamos a usar, un entorno como el que estamos usando para esta presentación nos será cómodo y flexible. Este entorno se conoce con el nombre de **Jupyter** y se basa en el concepto de *notebooks*, es decir libros de apuntes como el que estamos usando ahora mismo.\n",
    "\n",
    "* Google tambien proporciona un entorno de desarrollo llamado [Colab](https://colab.research.google.com/notebooks/welcome.ipynb) basado en **Jupyter** que incluye las librerias que usaremos en la asignatura.\n",
    "\n",
    "\n",
    "* Si alguno de vosotros prefiere usar un entorno integrado de desarrollo, recomiendo el uso de [Pycharm](https://www.jetbrains.com/pycharm/promo/?utm_source=bing&utm_medium=cpc&utm_campaign=EMEA_en_ES_PyCharm_Branded&utm_term=PyCharm&utm_content=PyCharm_branded&gclid=CMbR_azNy-QCFYnCGwodwu0EUg&gclsrc=ds) o Spyder integrado en la distribución Anaconda.\n",
    "\n",
    "\n"
   ]
  },
  {
   "cell_type": "markdown",
   "metadata": {},
   "source": [
    "## Librerias necesarias\n",
    "\n",
    "* [Numpy](https://numpy.org/):  *the fundamental package for scientific computing with Python. An efficient multi-dimensional container of generic data.* \n",
    "* [Matplotlib](https://matplotlib.org/): *a Python 2D plotting library*.\n",
    "* [Sci-kit learn](https://scikit-learn.org/stable/): *Machine Learning in Python.*\n",
    "* [Pandas](https://pandas.pydata.org/): *Python Data Analysis Library.*"
   ]
  },
  {
   "cell_type": "markdown",
   "metadata": {},
   "source": [
    "## Sci-kit learn\n",
    "\n",
    "<img src='https://scikit-learn.org/stable/_static/scikit-learn-logo-small.png' width=220>\n",
    "\n",
    "Sklearn es la librería de facto para construir modelos de ML en Python. Poseé una arquitectura intuitiva y generalizada a todos los tipos de modelos. Además, incluye una serie de herramientas que nos ayudarán no solo a entrenar y ejecutar modelos, si no también a seleccionarlos, trabajar las variables, y evaluar la eficiencia de nuestros sistemas de ML.\n",
    "\n",
    "Usaremos las librerias anteriormente mencionadas como consecuencia del uso de sklearn.\n",
    "\n",
    "Según su descripción en la página web:\n",
    "\n",
    "* *Simple and efficient tools for data mining and data analysis.*\n",
    "* *Accessible to everybody, and reusable in various contexts.*\n",
    "* *Built on NumPy, SciPy, and Matplotlib.*\n",
    "\n"
   ]
  }
 ],
 "metadata": {
  "kernelspec": {
   "display_name": "Python 3",
   "language": "python",
   "name": "python3"
  },
  "language_info": {
   "codemirror_mode": {
    "name": "ipython",
    "version": 3
   },
   "file_extension": ".py",
   "mimetype": "text/x-python",
   "name": "python",
   "nbconvert_exporter": "python",
   "pygments_lexer": "ipython3",
   "version": "3.7.4"
  }
 },
 "nbformat": 4,
 "nbformat_minor": 2
}
