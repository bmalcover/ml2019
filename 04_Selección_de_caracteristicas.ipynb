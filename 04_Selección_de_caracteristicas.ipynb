{
 "cells": [
  {
   "cell_type": "markdown",
   "metadata": {},
   "source": [
    "# Separación de los datos y selección de características"
   ]
  },
  {
   "cell_type": "markdown",
   "metadata": {},
   "source": [
    "## Separación de los datos\n",
    "\n",
    "* Percentatge\n",
    "* Cross validation"
   ]
  },
  {
   "cell_type": "markdown",
   "metadata": {},
   "source": [
    "## Selección de características\n",
    "\n",
    "\n",
    "### Métodos de filtrado (*Filter methods*)\n",
    "\n",
    "\n",
    "Los métodos de selección de características de filtro aplican una medida estadística para asignar una puntuación a cada característica. Las características se clasifican según la puntuación y se seleccionan para guardarlas o eliminarlas del conjunto de datos. Los métodos son a menudo univariados y consideran la característica de forma independiente o con respecto a la variable dependiente.\n",
    "\n",
    "### Métodos de envoltura (*wrapper methods*)\n",
    "\n",
    "Los métodos de envoltura consideran la selección de un conjunto de características como un problema de búsqueda, donde se preparan, evalúan y comparan diferentes combinaciones con otras combinaciones. Un modelo predictivo que usamos para evaluar una combinación de características y asignar una puntuación basada en la precisión del modelo.\n",
    "\n",
    "El proceso de búsqueda puede ser metódico, como una búsqueda de primer orden, puede ser estocástico, como un algoritmo aleatorio de escalada, o puede usar heurística, como pases hacia adelante y hacia atrás para agregar y eliminar características.\n",
    "\n",
    "### Métodos Embebidos (*Embed Methods*)\n",
    "\n",
    "Los métodos integrados aprenden qué características contribuyen mejor a la precisión del modelo mientras se crea el modelo. El tipo más común de métodos de selección de funciones integradas son los métodos de regularización.\n"
   ]
  },
  {
   "cell_type": "markdown",
   "metadata": {},
   "source": [
    "#### Lecturas adicionales\n",
    "\n",
    "[An Introduction to Feature Selection](https://machinelearningmastery.com/an-introduction-to-feature-selection/)"
   ]
  }
 ],
 "metadata": {
  "kernelspec": {
   "display_name": "Python 3",
   "language": "python",
   "name": "python3"
  },
  "language_info": {
   "codemirror_mode": {
    "name": "ipython",
    "version": 3
   },
   "file_extension": ".py",
   "mimetype": "text/x-python",
   "name": "python",
   "nbconvert_exporter": "python",
   "pygments_lexer": "ipython3",
   "version": "3.7.4"
  }
 },
 "nbformat": 4,
 "nbformat_minor": 2
}
