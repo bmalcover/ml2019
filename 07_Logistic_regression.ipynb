{
 "cells": [
  {
   "cell_type": "markdown",
   "metadata": {},
   "source": [
    "# Regresión logística\n",
    "---"
   ]
  },
  {
   "cell_type": "code",
   "execution_count": 1,
   "metadata": {},
   "outputs": [],
   "source": [
    "%matplotlib inline\n",
    "import pandas as pd\n",
    "import numpy as np\n",
    "import matplotlib.pyplot as plt"
   ]
  },
  {
   "cell_type": "markdown",
   "metadata": {},
   "source": [
    "En este ejemplo, empezaremos por ver como crear un clasificador binario sobre el siguiente problema:\n",
    "\n",
    "Los datos consisten en calificaciones de dos exámenes para 100 alumnos. El valor objetivo adquiere valores binarios [0,1]. 1 significa que el alumno fue admitido en la universidad, mientras que 0 significa que no fue admitido. \n",
    "\n",
    "El objetivo es construir un clasificador que pueda predecir si una aplicación será admitida en la universidad o no.\n",
    "\n",
    "El conjunto de datos se encuentra en la carpeta *data* y se llama *marks.txt*."
   ]
  },
  {
   "cell_type": "markdown",
   "metadata": {},
   "source": [
    "### 1: Carga los datos en un dataframe. Cambiamos los nombres de las columnas"
   ]
  },
  {
   "cell_type": "code",
   "execution_count": 2,
   "metadata": {},
   "outputs": [
    {
     "data": {
      "text/html": [
       "<div>\n",
       "<style scoped>\n",
       "    .dataframe tbody tr th:only-of-type {\n",
       "        vertical-align: middle;\n",
       "    }\n",
       "\n",
       "    .dataframe tbody tr th {\n",
       "        vertical-align: top;\n",
       "    }\n",
       "\n",
       "    .dataframe thead th {\n",
       "        text-align: right;\n",
       "    }\n",
       "</style>\n",
       "<table border=\"1\" class=\"dataframe\">\n",
       "  <thead>\n",
       "    <tr style=\"text-align: right;\">\n",
       "      <th></th>\n",
       "      <th>Examen 1</th>\n",
       "      <th>Examen 2</th>\n",
       "      <th>Admitido</th>\n",
       "    </tr>\n",
       "  </thead>\n",
       "  <tbody>\n",
       "    <tr>\n",
       "      <td>0</td>\n",
       "      <td>34.623660</td>\n",
       "      <td>78.024693</td>\n",
       "      <td>0</td>\n",
       "    </tr>\n",
       "    <tr>\n",
       "      <td>1</td>\n",
       "      <td>30.286711</td>\n",
       "      <td>43.894998</td>\n",
       "      <td>0</td>\n",
       "    </tr>\n",
       "    <tr>\n",
       "      <td>2</td>\n",
       "      <td>35.847409</td>\n",
       "      <td>72.902198</td>\n",
       "      <td>0</td>\n",
       "    </tr>\n",
       "    <tr>\n",
       "      <td>3</td>\n",
       "      <td>60.182599</td>\n",
       "      <td>86.308552</td>\n",
       "      <td>1</td>\n",
       "    </tr>\n",
       "    <tr>\n",
       "      <td>4</td>\n",
       "      <td>79.032736</td>\n",
       "      <td>75.344376</td>\n",
       "      <td>1</td>\n",
       "    </tr>\n",
       "  </tbody>\n",
       "</table>\n",
       "</div>"
      ],
      "text/plain": [
       "    Examen 1   Examen 2  Admitido\n",
       "0  34.623660  78.024693         0\n",
       "1  30.286711  43.894998         0\n",
       "2  35.847409  72.902198         0\n",
       "3  60.182599  86.308552         1\n",
       "4  79.032736  75.344376         1"
      ]
     },
     "execution_count": 2,
     "metadata": {},
     "output_type": "execute_result"
    }
   ],
   "source": [
    "path = \"data/marks.txt\"\n",
    "df = pd.read_csv(path, header=None)\n",
    "df.columns = [\"Examen 1\", \"Examen 2\", \"Admitido\"]\n",
    "\n",
    "df.head()"
   ]
  },
  {
   "cell_type": "markdown",
   "metadata": {},
   "source": [
    "### 2: Mostramos la información de forma gráfica"
   ]
  },
  {
   "cell_type": "code",
   "execution_count": 3,
   "metadata": {},
   "outputs": [
    {
     "data": {
      "image/png": "[encoded data removed]",
      "text/plain": [
       "<Figure size 432x288 with 1 Axes>"
      ]
     },
     "metadata": {
      "needs_background": "light"
     },
     "output_type": "display_data"
    }
   ],
   "source": [
    "# Obtenemos los admitidos\n",
    "\n",
    "admitted = df[df.Admitido == 1]\n",
    "\n",
    "# Obtenemos los no admitidos\n",
    "not_admitted = df[df.Admitido == 0]\n",
    "\n",
    "# plots\n",
    "plt.scatter(admitted.iloc[:, 0], admitted.iloc[:, 1], s=10, label='Admitidos')\n",
    "plt.scatter(not_admitted.iloc[:, 0], not_admitted.iloc[:, 1], s=10, label='No admitidos')\n",
    "plt.legend()\n",
    "plt.show()"
   ]
  },
  {
   "cell_type": "markdown",
   "metadata": {},
   "source": [
    "### 3: Generamos los descriptivos básicos\n",
    "\n",
    "Algunas preguntas que estaria bien contestar\n",
    "1. Es un problema desbalanceado?\n",
    "1. Existen valores nulos?\n",
    "1. Existen outliers?"
   ]
  },
  {
   "cell_type": "code",
   "execution_count": 4,
   "metadata": {},
   "outputs": [
    {
     "data": {
      "text/html": [
       "<div>\n",
       "<style scoped>\n",
       "    .dataframe tbody tr th:only-of-type {\n",
       "        vertical-align: middle;\n",
       "    }\n",
       "\n",
       "    .dataframe tbody tr th {\n",
       "        vertical-align: top;\n",
       "    }\n",
       "\n",
       "    .dataframe thead th {\n",
       "        text-align: right;\n",
       "    }\n",
       "</style>\n",
       "<table border=\"1\" class=\"dataframe\">\n",
       "  <thead>\n",
       "    <tr style=\"text-align: right;\">\n",
       "      <th></th>\n",
       "      <th>Examen 1</th>\n",
       "      <th>Examen 2</th>\n",
       "      <th>Admitido</th>\n",
       "    </tr>\n",
       "  </thead>\n",
       "  <tbody>\n",
       "    <tr>\n",
       "      <td>count</td>\n",
       "      <td>100.000000</td>\n",
       "      <td>100.000000</td>\n",
       "      <td>100.000000</td>\n",
       "    </tr>\n",
       "    <tr>\n",
       "      <td>mean</td>\n",
       "      <td>65.644274</td>\n",
       "      <td>66.221998</td>\n",
       "      <td>0.600000</td>\n",
       "    </tr>\n",
       "    <tr>\n",
       "      <td>std</td>\n",
       "      <td>19.458222</td>\n",
       "      <td>18.582783</td>\n",
       "      <td>0.492366</td>\n",
       "    </tr>\n",
       "    <tr>\n",
       "      <td>min</td>\n",
       "      <td>30.058822</td>\n",
       "      <td>30.603263</td>\n",
       "      <td>0.000000</td>\n",
       "    </tr>\n",
       "    <tr>\n",
       "      <td>25%</td>\n",
       "      <td>50.919511</td>\n",
       "      <td>48.179205</td>\n",
       "      <td>0.000000</td>\n",
       "    </tr>\n",
       "    <tr>\n",
       "      <td>50%</td>\n",
       "      <td>67.032988</td>\n",
       "      <td>67.682381</td>\n",
       "      <td>1.000000</td>\n",
       "    </tr>\n",
       "    <tr>\n",
       "      <td>75%</td>\n",
       "      <td>80.212529</td>\n",
       "      <td>79.360605</td>\n",
       "      <td>1.000000</td>\n",
       "    </tr>\n",
       "    <tr>\n",
       "      <td>max</td>\n",
       "      <td>99.827858</td>\n",
       "      <td>98.869436</td>\n",
       "      <td>1.000000</td>\n",
       "    </tr>\n",
       "  </tbody>\n",
       "</table>\n",
       "</div>"
      ],
      "text/plain": [
       "         Examen 1    Examen 2    Admitido\n",
       "count  100.000000  100.000000  100.000000\n",
       "mean    65.644274   66.221998    0.600000\n",
       "std     19.458222   18.582783    0.492366\n",
       "min     30.058822   30.603263    0.000000\n",
       "25%     50.919511   48.179205    0.000000\n",
       "50%     67.032988   67.682381    1.000000\n",
       "75%     80.212529   79.360605    1.000000\n",
       "max     99.827858   98.869436    1.000000"
      ]
     },
     "execution_count": 4,
     "metadata": {},
     "output_type": "execute_result"
    }
   ],
   "source": [
    "df.describe()"
   ]
  },
  {
   "cell_type": "markdown",
   "metadata": {},
   "source": [
    "### 4: Dividimos los datos en dos partes: df_train y df_test con el 80% y el 20% de los datos repartidos de forma aleatoria.\n",
    "\n",
    "La pregunta a contestar es **Por qué hacemos esto?**"
   ]
  },
  {
   "cell_type": "code",
   "execution_count": 5,
   "metadata": {},
   "outputs": [
    {
     "name": "stdout",
     "output_type": "stream",
     "text": [
      "Entrenamiento: 80\n",
      "Test: 20\n"
     ]
    }
   ],
   "source": [
    "from sklearn.model_selection import train_test_split\n",
    "\n",
    "df_train, df_test = train_test_split(df, test_size=0.2, random_state=33)\n",
    "\n",
    "print(\"Entrenamiento: \" + str(df_train.shape[0]))\n",
    "print(\"Test: \" + str(df_test.shape[0]))\n",
    "\n",
    "X_train = df_train.drop('Admitido', axis=1)\n",
    "y_train = df_train['Admitido']"
   ]
  },
  {
   "cell_type": "markdown",
   "metadata": {},
   "source": [
    "### 5: Carga la libreria de sklearn que permite entrenar una regresión logística.\n",
    "\n",
    "Instanciamos el modelo bajo el nombre `clf_lr`"
   ]
  },
  {
   "cell_type": "code",
   "execution_count": 6,
   "metadata": {},
   "outputs": [],
   "source": [
    "from sklearn.linear_model import LogisticRegression\n",
    "\n",
    "clf_lr = LogisticRegression(C=0.01,solver=\"liblinear\") # Esta sentencia nos crea un clasificador logístico"
   ]
  },
  {
   "cell_type": "markdown",
   "metadata": {},
   "source": [
    "### 6: Entrenamos el modelo y lo evaluamos"
   ]
  },
  {
   "cell_type": "code",
   "execution_count": 7,
   "metadata": {
    "scrolled": true
   },
   "outputs": [
    {
     "data": {
      "text/plain": [
       "LogisticRegression(C=0.01, class_weight=None, dual=False, fit_intercept=True,\n",
       "                   intercept_scaling=1, l1_ratio=None, max_iter=100,\n",
       "                   multi_class='warn', n_jobs=None, penalty='l2',\n",
       "                   random_state=None, solver='liblinear', tol=0.0001, verbose=0,\n",
       "                   warm_start=False)"
      ]
     },
     "execution_count": 7,
     "metadata": {},
     "output_type": "execute_result"
    }
   ],
   "source": [
    "# Esta sentencia entrena el clasificador con nuestro conjunto de entrenamiento\n",
    "clf_lr.fit(X_train, y_train)\n",
    "# Como resultado vemos los diferentes parámetreos del método\n",
    "# Vamos a comentar: C, random_state"
   ]
  },
  {
   "cell_type": "code",
   "execution_count": 8,
   "metadata": {},
   "outputs": [
    {
     "data": {
      "text/plain": [
       "0.65"
      ]
     },
     "execution_count": 8,
     "metadata": {},
     "output_type": "execute_result"
    }
   ],
   "source": [
    "X_test = df_test.drop('Admitido', axis=1)\n",
    "y_test = df_test['Admitido']\n",
    "clf_lr.score(X_test, y_test)"
   ]
  },
  {
   "cell_type": "markdown",
   "metadata": {},
   "source": [
    "**Vamos a ver de manera gráfica como de bueno es nuestro modelo sobre el conjunto de test**"
   ]
  },
  {
   "cell_type": "code",
   "execution_count": 21,
   "metadata": {},
   "outputs": [
    {
     "data": {
      "image/png": "[encoded data removed]",
      "text/plain": [
       "<Figure size 432x288 with 1 Axes>"
      ]
     },
     "metadata": {
      "needs_background": "light"
     },
     "output_type": "display_data"
    }
   ],
   "source": [
    "\n",
    "admitted = df_test[df_test.Admitido == 1]\n",
    "not_admitted = df_test[df_test.Admitido == 0]\n",
    "\n",
    "# plots\n",
    "plt.scatter(admitted.iloc[:, 0], admitted.iloc[:, 1], s=10, label='Admitted')\n",
    "plt.scatter(not_admitted.iloc[:, 0], not_admitted.iloc[:, 1], s=10, label='Not Admitted')\n",
    "\n",
    "x_values = [np.min(X_test[\"Examen 1\"] - 5), np.max(X_test[\"Examen 2\"] + 5)]\n",
    "y_values =  - (clf_lr.intercept_ + np.dot(clf_lr.coef_[0][0], x_values)) / clf_lr.coef_[0][1] \n",
    "plt.plot(x_values, y_values, \"--\", c=\"r\")\n",
    "plt.legend();\n",
    "plt.show();"
   ]
  },
  {
   "cell_type": "code",
   "execution_count": 16,
   "metadata": {},
   "outputs": [
    {
     "name": "stdout",
     "output_type": "stream",
     "text": [
      "[[0.0820977  0.08324692]]\n",
      "[-10.06919547]\n"
     ]
    }
   ],
   "source": [
    "print(clf_lr.coef_)\n",
    "print(clf_lr.intercept_)"
   ]
  },
  {
   "cell_type": "markdown",
   "metadata": {},
   "source": [
    "## Ejercicio:\n",
    "\n",
    "1. Dibujar el resultado del clasificador sobre el conjunto de entrenamiento \n",
    "2. Repetir la clasificación probando diferentes valores del parámetro C"
   ]
  },
  {
   "cell_type": "markdown",
   "metadata": {
    "collapsed": true
   },
   "source": [
    "### Recursos adicionales\n",
    "\n",
    "* [Documentación regresión logística](https://scikit-learn.org/stable/modules/generated/sklearn.linear_model.LogisticRegression.html)\n",
    "* [A Friendly Introduction to Cross-Entropy Loss](https://rdipietro.github.io/friendly-intro-to-cross-entropy-loss/)\n",
    "* [Liblinear library](https://www.csie.ntu.edu.tw/~cjlin/liblinear/)"
   ]
  },
  {
   "cell_type": "markdown",
   "metadata": {},
   "source": [
    "## Variación del parámetro C"
   ]
  },
  {
   "cell_type": "code",
   "execution_count": 10,
   "metadata": {},
   "outputs": [
    {
     "data": {
      "image/png": "[encoded data removed]",
      "text/plain": [
       "<Figure size 432x288 with 1 Axes>"
      ]
     },
     "metadata": {
      "needs_background": "light"
     },
     "output_type": "display_data"
    }
   ],
   "source": [
    "valores =[0.1, 0.5, 1.0, 5.0, 10.0]\n",
    "classificadores = []\n",
    "for i in valores:\n",
    "    clf_lr = LogisticRegression(C=i,solver=\"liblinear\") # Esta sentencia nos crea un clasificador logístico\n",
    "    clf_lr.fit(X_train, y_train)\n",
    "    classificadores.append(clf_lr)\n",
    "\n",
    "admitted = df_train[df_train.Admitido == 1]\n",
    "not_admitted = df_train[df_train.Admitido == 0]\n",
    "\n",
    "# plots\n",
    "plt.scatter(admitted[\"Examen 1\"], admitted[\"Examen 2\"], s=10, label='Admitted')\n",
    "plt.scatter(not_admitted[\"Examen 1\"], not_admitted[\"Examen 2\"], s=10, label='Not Admitted')\n",
    "\n",
    "for clf_lr in classificadores:\n",
    "    \n",
    "    x_values = [np.min(X_test[\"Examen 1\"] - 5), np.max(X_test[\"Examen 2\"] + 5)]\n",
    "    y_values =  - (clf_lr.intercept_ + np.dot(clf_lr.coef_[0][1], x_values)) / clf_lr.coef_[0][0] \n",
    "    plt.plot(x_values, y_values, \"--\", c=\"r\")\n",
    "\n",
    "plt.legend();\n",
    "plt.show();\n"
   ]
  }
 ],
 "metadata": {
  "kernelspec": {
   "display_name": "Python 3",
   "language": "python",
   "name": "python3"
  },
  "language_info": {
   "codemirror_mode": {
    "name": "ipython",
    "version": 3
   },
   "file_extension": ".py",
   "mimetype": "text/x-python",
   "name": "python",
   "nbconvert_exporter": "python",
   "pygments_lexer": "ipython3",
   "version": "3.7.4"
  }
 },
 "nbformat": 4,
 "nbformat_minor": 2
}
