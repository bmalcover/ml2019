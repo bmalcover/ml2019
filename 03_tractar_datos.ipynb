{
 "cells": [
  {
   "cell_type": "markdown",
   "metadata": {},
   "source": [
    "#  Preparación de los datos\n",
    "\n",
    "Al final, un algoritmo simple puede superar a uno complejo solo porque recibió datos suficientes y de alta calidad.\n",
    "\n",
    "Los datos incorrectos o inconsistentes conducen a conclusiones falsas. Así que antes de empezar a trabajar con ellos debemos asegurarnos que xxxx y los entendemos.\n",
    "\n",
    "\n",
    "# Calidad de los datos\n",
    "\n",
    "Vamos a revisar que criterios de calidad debemos exigir a nuestros datos:\n",
    "\n",
    "* **Validez:** El grado en que los datos se ajustan a ciertas reglas o restricciones definidas.\n",
    "\n",
    "* **Exactitud:** El grado en que los datos están cerca de los valores verdaderos. Si bien la definición de todos los valores válidos posibles permite detectar fácilmente valores no válidos, no significa que sean precisos.\n",
    "\n",
    "* **Completitud:** El grado en que se conocen todos los datos requeridos. La falta de datos va a suceder por varias razones. \n",
    "\n",
    "* **Uniformidad:** El grado en que se especifican los datos utilizando la misma unidad de medida.\n"
   ]
  },
  {
   "cell_type": "markdown",
   "metadata": {},
   "source": [
    "# Análisis de los datos\n",
    "\n",
    "\n",
    "Podemos dividir el análisis de nuestro conjunto de datos en tres pasos destinados a producir datos de *calidad* con los criterios anteriormente mencionados.\n",
    "\n",
    "* **Inspección**: detecta datos inesperados, incorrectos e inconsistentes.\n",
    "* **Limpieza**: corrige o elimina las anomalías descubiertas.\n",
    "* **Verificación**: después de la limpieza, los resultados se inspeccionan para verificar la corrección."
   ]
  },
  {
   "cell_type": "markdown",
   "metadata": {},
   "source": [
    "## Inspección\n",
    "\n",
    "La inspección de los datos puede llevar mucho tiempo y requiere el uso de diversos métodos para explorar los datos de los que disponemos. Éstos son algunos de ellos:\n",
    "\n",
    "### Realizar perfiles de los datos\n",
    "\n",
    "Un resumen estadístico sobre los datos, llamado perfil de datos, es una herramienta útil para obtener una idea general sobre estos.\n",
    "\n",
    "Por ejemplo, se debe verificar si una columna en particular se ajusta a estándares o patrones particulares. ¿La columna de datos se registra como una cadena o un número?\n",
    "\n",
    "¿Cuántos valores faltan? ¿Cuántos valores únicos hay en una columna y su distribución? ¿Este conjunto de datos está vinculado o tiene una relación con otro?\n",
    "\n",
    "### Visualizaciones sobre estos\n",
    "\n",
    "Al analizar y visualizar los datos utilizando métodos estadísticos como la media, la desviación estándar, el rango o los cuantiles, se pueden encontrar valores inesperados y, por lo tanto, erróneos.\n",
    "\n",
    "Vale la pena investigar esos valores atípicos y descubrir que no siempre son necesariamente datos incorrectos.\n"
   ]
  },
  {
   "cell_type": "markdown",
   "metadata": {},
   "source": [
    "### Software\n",
    "\n",
    "La combinación de uno o más paquetes de software nos puede ser de gran ayuda para realizar este análisis. Nosotros en contreto usaremos la combinación de: pandas + matplotlib + seaborn para realizarlos.\n",
    "\n",
    "Además, no solo pueden generar un informe de qué reglas se infringieron y cuántas veces, sino que también pueden crear un gráfico de qué columnas están asociadas con qué reglas."
   ]
  },
  {
   "cell_type": "code",
   "execution_count": 3,
   "metadata": {},
   "outputs": [],
   "source": [
    "# Importamos las librerias básicas necesarias\n",
    "\n",
    "import numpy as np\n",
    "import matplotlib.pyplot as plt\n",
    "import pandas as pd\n"
   ]
  },
  {
   "cell_type": "markdown",
   "metadata": {},
   "source": [
    "## Limpieza\n",
    "\n",
    "La limpieza de datos involucra diferentes técnicas según el problema a solucionar y el tipo de datos que se esta tratando. \n",
    "\n",
    "En general, los datos incorrectos se eliminan, se corrigen o se marcan.\n",
    "\n",
    "### Datos irrelevantes\n",
    "\n",
    "Los datos irrelevantes son aquellos que realmente no se necesitan y no se ajustan al contexto del problema que estamos tratando de resolver.\n",
    "\n",
    "Por ejemplo, si estuviéramos analizando datos sobre la salud general de la población, el número de teléfono no sería necesario. **Solamente debemos descartar** aquellos datos de los que estamos seguros que son irrelevantes.\n",
    "\n",
    "\n",
    "### Datos duplicados\n",
    "\n",
    "Los duplicados son aquellas observaciones que se repiten en su conjunto de datos.\n",
    "\n",
    "A menudo sucede cuando, por ejemplo:\n",
    "\n",
    "   * Los datos se combinan de diferentes fuentes.\n",
    "   * Errores del propio usuario.\n",
    "     \n",
    "\n",
    "Estos, simplemente deben eliminarse.\n",
    "\n"
   ]
  },
  {
   "cell_type": "markdown",
   "metadata": {},
   "source": [
    "### Errores de tipo\n",
    "\n",
    "En general cada tipo de datos tiene sus propios errores, vamos a describir los más comunes.\n",
    "\n",
    "Es necesario asegurarse que los **números** estén almacenados como datos numéricos con el tipo adecuado.\n",
    "\n",
    "Las **fechas** deben almacenarse como un objeto de tipo fecha y tener un formato único para todo el conjunto de datos.\n",
    "\n",
    "\n",
    "También debemos tener en cuenta todos los errores que pueden derivarse del uso de ***strings* o texto en general**. La información en formato texto será una gran fuente de problemas, debemos pensar que la introducción de esta información no es *cerrada* y esto genera muchos errores.\n",
    "\n",
    "* Información adicional antes, despues o entre palabras. Por ejemplo: espacios en blanco.\n",
    "* Categorias con múltiples nombres que deben ser normalizadas. Por ejemplo: *Hombre, H, hombre, hmbre*. \n",
    "* Palabras que aportan información muy similar.\n",
    "\n",
    "Muchas veces una visualización gráfica o un conteo de valores únicos por columna nos ayudará como se esta formada nuestra columna y detectar errores relacionados con el texto. Varias soluciones posibles pasan por *mapear* manualmente los diferentes valores a uno común, crear expresiones regulares para normalizarlos (p.ej pasar todas las letras a minúsculas) o crear funciones distancia para saber a cual de las categorias petenecen los distintos términos.\n",
    "\n",
    "\n",
    "**Advertencia:** los valores que no se pueden convertir al tipo especificado deben convertirse al valor de *NA/NAN*. Esto indica que el valor es incorrecto y debe ser reparado.\n",
    "\n",
    "\n",
    "Una de las dudas recurrentes es como tratamos los datos categóricos.**Los valores categóricos se pueden convertir en y desde números si es necesario.** MEHHHHHHHHHH\n"
   ]
  },
  {
   "cell_type": "markdown",
   "metadata": {},
   "source": [
    "### Estandarizado\n",
    "\n",
    "Nuestro deber es no solo reconocer los errores tipográficos, sino también poner cada valor en el mismo formato estandarizado.\n",
    "\n",
    "Para los *strings*, debemos asegurarnos que todos los valores estan en minúsculas o mayúsculas.\n",
    "\n",
    "Para valores numéricos, debemos asegurarnos que todos los valores tengan una determinada unidad de medida. La altura, por ejemplo, puede ser en metros y centímetros. La diferencia de 1 metro se considera igual que la diferencia de 1 centímetro."
   ]
  },
  {
   "cell_type": "markdown",
   "metadata": {},
   "source": [
    "### Escalado\n",
    "\n",
    "Escalar significa transformar los datos para que se ajusten a una escala específica, como 0–100 o 0–1.\n",
    "\n",
    "También puede ayudar a hacer que ciertos tipos de datos sean más fáciles de dibujar. Por ejemplo, podríamos querer reducir la asimetría para ayudar a dibujar (cuando se tienen tantos valores atípicos). Las funciones más utilizadas son log, raíz cuadrada e inversa.\n",
    "\n",
    "El escalado también puede tener lugar en datos que tienen diferentes unidades de medida. Al escalar comparar diferentes puntajes de una manera más senzilla\n",
    "\n",
    "\n"
   ]
  },
  {
   "cell_type": "code",
   "execution_count": null,
   "metadata": {},
   "outputs": [],
   "source": []
  },
  {
   "cell_type": "markdown",
   "metadata": {},
   "source": [
    "### Normalización\n",
    "\n",
    "Si bien la normalización también reescala los valores en un rango de 0-1, la intención aquí es transformar los datos para que se distribuyan normalmente. ¿Por qué?\n",
    "\n",
    "En la mayoría de los casos, normalizamos los datos si vamos a utilizar métodos estadísticos que se basan en datos distribuidos normalmente. [Enlace](https://en.wikipedia.org/wiki/Normalization_(statistics)#Examples)\n",
    "\n"
   ]
  },
  {
   "cell_type": "code",
   "execution_count": null,
   "metadata": {},
   "outputs": [],
   "source": []
  },
  {
   "cell_type": "markdown",
   "metadata": {},
   "source": [
    "### Valores faltantes\n",
    "\n",
    "Dado que los valores faltantes son inevitables, nos deja con la pregunta de qué hacer cuando los encontremos. Vamos a describir tres maneras de trabajar con ellos:\n",
    "\n",
    "#### Uno: eliminar\n",
    "\n",
    "Si los valores faltantes en una columna rara vez ocurren y ocurren al azar, entonces la solución más fácil y más directa es eliminar las observaciones (filas) que tienen valores faltantes.\n",
    "\n",
    "Si faltan la mayoría de los valores de la columna y se producen al azar, entonces una decisión típica es descartar la columna completa.\n",
    "\n",
    "Esto es particularmente útil al hacer análisis estadísticos, ya que completar los valores faltantes puede producir resultados inesperados o sesgados."
   ]
  },
  {
   "cell_type": "code",
   "execution_count": null,
   "metadata": {},
   "outputs": [],
   "source": []
  },
  {
   "cell_type": "markdown",
   "metadata": {},
   "source": [
    "#### Dos. Imputar\n",
    "\n",
    "Significa calcular el valor faltante basado en otras observaciones. Hay muchos métodos para hacer eso.\n",
    "\n",
    "El **primero** es usar valores estadísticos como media, mediana. Sin embargo, ninguno de estos garantiza datos imparciales, especialmente si faltan muchos valores.\n",
    "\n",
    "La media es más útil cuando los datos originales no están sesgados, mientras que la mediana es más robusta, no sensible a los valores atípicos y, por lo tanto, se usa cuando pensamos que los datos están sesgados.\n",
    "\n",
    "En un dato distribuido normalmente, uno puede obtener todos los valores que están dentro de 2 desviaciones estándar de la media. Luego, podemos completar los valores faltantes generando números aleatorios entre XXXXXXXXX\n",
    "\n",
    "Una **segunda** opción seria usando una regresión lineal. Con las base en los datos existentes, se puede calcular la mejor línea de ajuste entre dos variables muy correlacionadas, por ejemplo, precio de la vivienda versus tamaño m².\n",
    "\n",
    "Vale la pena mencionar que los modelos de regresión lineal son sensibles a los valores atípicos.\n",
    "\n",
    "[Documentación sklearn: Imputation](https://scikit-learn.org/stable/modules/impute.html)"
   ]
  },
  {
   "cell_type": "markdown",
   "metadata": {},
   "source": [
    "\n",
    "En **tercer** lugar podemos copiar valores de otros registros similares. Esta aproximación solo es útil si tenemos suficientes datos disponibles, se puede aplicar tanto a datos numéricos y categóricos.\n",
    "\n",
    "En la imputación secuencial,  la columna que contiene los valores faltantes se ordena de acuerdo con alguna de las otras variables para que los registros que tienen valores similares ocurran secuencialmente. A continuación, cada valor faltante se completa con el valor del siguiente registro disponible.\n",
    "\n",
    "Lo que es más interesante es que también se puede utilizar la imputación del vecino más cercano, que se beneficia de la utilización de algoritmos de clustering para completar el valor faltante con el vecino más cercano al registro."
   ]
  },
  {
   "cell_type": "markdown",
   "metadata": {},
   "source": [
    "\n",
    "#### Tres. Etiquetar\n",
    "\n",
    "Algunos argumentan que completar los valores faltantes conduce a una pérdida de información, sin importar el método de imputación que usemos.\n",
    "\n",
    "Esto se debe a que decir que faltan los datos es informativo en sí mismo, y el algoritmo debería saberlo. De lo contrario, solo estamos reforzando el patrón que ya existe por otras características.\n",
    "\n",
    "Esto es particularmente importante cuando los datos que faltan no ocurren al azar. Tomemos, por ejemplo, una encuesta realizada donde la mayoría de las personas de una raza específica se niegan a responder una determinada pregunta.\n",
    "\n",
    "Los datos numéricos que faltan se pueden completar con, 0, pero estos ceros deben ignorarse al calcular cualquier valor estadístico o al trazar la distribución.\n",
    "\n",
    "Si bien los datos categóricos se pueden completar con por ejemplo el valor \"falta\": una nueva categoría que indica que falta este dato.\n",
    "\n",
    "**Debemos tomar en consideración**\n",
    "\n",
    "Los valores faltantes no son los mismos que los valores predeterminados. Por ejemplo,el valor cero puede interpretarse como perdido o predeterminado, pero no como ambos.\n",
    "\n",
    "Los valores faltantes no son \"desconocidos\". Una investigación realizada en la que algunas personas no recordaban si habían sido intimidadas o no en la escuela, debe tratarse y etiquetarse como desconocida y no faltante.\n",
    "\n",
    "Cada vez que eliminamos o imputamos valores estamos perdiendo información. Entonces, la señalización podría venir al rescate.\n"
   ]
  },
  {
   "cell_type": "markdown",
   "metadata": {},
   "source": [
    "### Valores atípicos: *outliers*\n",
    "\n",
    "Son valores que son significativamente diferentes de todas las demás observaciones. Cualquier valor de datos que se encuentre a más de (1.5 * IQR) de los cuartiles Q1 y Q3 se considera un valor atípico.\n",
    "\n",
    "Los valores atípicos son inocentes hasta que se demuestre lo contrario. Dicho esto, no deben eliminarse a menos que haya una buena razón para ello.\n",
    "\n",
    "Por ejemplo, uno puede notar algunos valores extraños y sospechosos que es poco probable que ocurran, por lo que decide eliminarlos. Sin embargo, vale la pena investigar antes de eliminar.\n",
    "\n",
    "También vale la pena mencionar que algunos modelos, como la regresión lineal, son muy sensibles a los valores atípicos. En otras palabras, los valores atípicos podrían arrojar el modelo desde donde se encuentra la mayoría de los datos."
   ]
  },
  {
   "cell_type": "markdown",
   "metadata": {},
   "source": [
    "# Verificación\n",
    "\n",
    "Cuando hayamos terminado,  debemos verificar la corrección volviendo a inspeccionar los datos y asegurándonos que las reglas y restricciones se cumplan.\n",
    "\n",
    "Por ejemplo, después de completar los datos que faltan, pueden violar cualquiera de las reglas y restricciones.\n",
    "\n",
    "Podría implicar realizar alguna corrección manual si no es posible de lo contrario"
   ]
  },
  {
   "cell_type": "markdown",
   "metadata": {},
   "source": [
    "# Selecció de features\n",
    "\n"
   ]
  },
  {
   "cell_type": "markdown",
   "metadata": {},
   "source": []
  }
 ],
 "metadata": {
  "kernelspec": {
   "display_name": "Python 3",
   "language": "python",
   "name": "python3"
  },
  "language_info": {
   "codemirror_mode": {
    "name": "ipython",
    "version": 3
   },
   "file_extension": ".py",
   "mimetype": "text/x-python",
   "name": "python",
   "nbconvert_exporter": "python",
   "pygments_lexer": "ipython3",
   "version": "3.7.4"
  }
 },
 "nbformat": 4,
 "nbformat_minor": 2
}
