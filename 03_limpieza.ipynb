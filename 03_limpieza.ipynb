{
 "cells": [
  {
   "cell_type": "markdown",
   "metadata": {},
   "source": [
    "#  Preparación de los datos\n",
    "\n",
    "\n",
    "[IBM dice](https://www.ibm.com/cloud/blog/ibm-data-catalog-data-scientists-productivity) : *80 percent of a data scientist’s valuable time is spent simply finding, cleansing, and organizing data, leaving only 20 percent to actually perform analysis.*\n",
    "\n",
    "Los datos incorrectos o inconsistentes conducen a conclusiones falsas. Así que antes de empezar a trabajar con ellos debemos asegurarnos que los entendemos y tienen calidad suficiente para trabajar por ellos.\n",
    "\n",
    "\n",
    "# Calidad de los datos\n",
    "\n",
    "Vamos a revisar que criterios de calidad debemos exigir a nuestros datos:\n",
    "\n",
    "* **Validez:** El grado en que los datos se ajustan a ciertas reglas o restricciones definidas.\n",
    "\n",
    "* **Exactitud:** El grado en que los datos están cerca de los valores verdaderos. Si bien la definición de todos los valores válidos posibles permite detectar fácilmente valores no válidos, no significa que sean precisos.\n",
    "\n",
    "* **Completitud:** El grado en que se conocen todos los datos requeridos. \n",
    "\n",
    "* **Uniformidad:** El grado en que se especifican los datos utilizando la misma unidad de medida o una unidad de medida comparable.\n"
   ]
  },
  {
   "cell_type": "markdown",
   "metadata": {},
   "source": [
    "# Análisis de los datos\n",
    "\n",
    "\n",
    "Podemos dividir el análisis de nuestro conjunto de datos en tres pasos destinados a producir datos de *calidad* con los criterios anteriormente mencionados.\n",
    "\n",
    "* **Inspección**: detecta datos inesperados, incorrectos e inconsistentes.\n",
    "* **Limpieza**: corrige o elimina las anomalías descubiertas.\n",
    "* **Verificación**: después de la limpieza, los resultados se inspeccionan para verificar la corrección."
   ]
  },
  {
   "cell_type": "markdown",
   "metadata": {},
   "source": [
    "## Inspección\n",
    "\n",
    "La inspección de los datos puede llevar mucho tiempo y requiere el uso de diversos métodos para explorar los datos de los que disponemos. \n",
    "\n",
    "Éstos son algunos de ellos:\n",
    "\n",
    "### Realizar perfiles de los datos\n",
    "\n",
    "Un resumen estadístico sobre los datos, llamado perfil de datos, es una herramienta útil para obtener una idea general sobre estos.\n",
    "\n",
    "Por ejemplo, se debe verificar si una columna en particular se ajusta a estándares o patrones particulares. ¿La columna de datos se registra como un *string* o como un número?\n",
    "\n",
    "¿Cuántos valores faltan? ¿Cuántos valores únicos hay en una columna y su distribución? ¿Este conjunto de datos está vinculado o tiene una relación con otro?\n",
    "\n",
    "### Visualizaciones sobre estos\n",
    "\n",
    "Al analizar y visualizar los datos utilizando métodos estadísticos como la media, la desviación estándar, el rango o los cuantiles, se pueden encontrar valores inesperados y, por lo tanto, erróneos.\n",
    "\n",
    "Vale la pena investigar esos valores atípicos y descubrir que no siempre son necesariamente datos incorrectos.\n"
   ]
  },
  {
   "cell_type": "markdown",
   "metadata": {},
   "source": [
    "### Software\n",
    "\n",
    "La combinación de uno o más paquetes de software nos puede ser de gran ayuda para realizar este análisis. Nosotros en contreto usaremos la combinación de: pandas + matplotlib + seaborn para realizarlos."
   ]
  },
  {
   "cell_type": "code",
   "execution_count": 1,
   "metadata": {},
   "outputs": [],
   "source": [
    "# Importamos las librerias básicas necesarias\n",
    "\n",
    "import numpy as np\n",
    "import matplotlib.pyplot as plt\n",
    "import pandas as pd\n"
   ]
  },
  {
   "cell_type": "markdown",
   "metadata": {},
   "source": [
    "[Kaggle NY Airbnb](https://www.kaggle.com/dgomonov/new-york-city-airbnb-open-data/)"
   ]
  },
  {
   "cell_type": "code",
   "execution_count": 23,
   "metadata": {},
   "outputs": [
    {
     "name": "stdout",
     "output_type": "stream",
     "text": [
      "Dimensiones:(48895, 16)\n"
     ]
    },
    {
     "data": {
      "text/html": [
       "<div>\n",
       "<style scoped>\n",
       "    .dataframe tbody tr th:only-of-type {\n",
       "        vertical-align: middle;\n",
       "    }\n",
       "\n",
       "    .dataframe tbody tr th {\n",
       "        vertical-align: top;\n",
       "    }\n",
       "\n",
       "    .dataframe thead th {\n",
       "        text-align: right;\n",
       "    }\n",
       "</style>\n",
       "<table border=\"1\" class=\"dataframe\">\n",
       "  <thead>\n",
       "    <tr style=\"text-align: right;\">\n",
       "      <th></th>\n",
       "      <th>id</th>\n",
       "      <th>name</th>\n",
       "      <th>host_id</th>\n",
       "      <th>host_name</th>\n",
       "      <th>neighbourhood_group</th>\n",
       "      <th>neighbourhood</th>\n",
       "      <th>latitude</th>\n",
       "      <th>longitude</th>\n",
       "      <th>room_type</th>\n",
       "      <th>price</th>\n",
       "      <th>minimum_nights</th>\n",
       "      <th>number_of_reviews</th>\n",
       "      <th>last_review</th>\n",
       "      <th>reviews_per_month</th>\n",
       "      <th>calculated_host_listings_count</th>\n",
       "      <th>availability_365</th>\n",
       "    </tr>\n",
       "  </thead>\n",
       "  <tbody>\n",
       "    <tr>\n",
       "      <th>0</th>\n",
       "      <td>2539</td>\n",
       "      <td>Clean &amp; quiet apt home by the park</td>\n",
       "      <td>2787</td>\n",
       "      <td>John</td>\n",
       "      <td>Brooklyn</td>\n",
       "      <td>Kensington</td>\n",
       "      <td>40.64749</td>\n",
       "      <td>-73.97237</td>\n",
       "      <td>Private room</td>\n",
       "      <td>149</td>\n",
       "      <td>1</td>\n",
       "      <td>9</td>\n",
       "      <td>2018-10-19</td>\n",
       "      <td>0.21</td>\n",
       "      <td>6</td>\n",
       "      <td>365</td>\n",
       "    </tr>\n",
       "    <tr>\n",
       "      <th>1</th>\n",
       "      <td>2595</td>\n",
       "      <td>Skylit Midtown Castle</td>\n",
       "      <td>2845</td>\n",
       "      <td>Jennifer</td>\n",
       "      <td>Manhattan</td>\n",
       "      <td>Midtown</td>\n",
       "      <td>40.75362</td>\n",
       "      <td>-73.98377</td>\n",
       "      <td>Entire home/apt</td>\n",
       "      <td>225</td>\n",
       "      <td>1</td>\n",
       "      <td>45</td>\n",
       "      <td>2019-05-21</td>\n",
       "      <td>0.38</td>\n",
       "      <td>2</td>\n",
       "      <td>355</td>\n",
       "    </tr>\n",
       "    <tr>\n",
       "      <th>2</th>\n",
       "      <td>3647</td>\n",
       "      <td>THE VILLAGE OF HARLEM....NEW YORK !</td>\n",
       "      <td>4632</td>\n",
       "      <td>Elisabeth</td>\n",
       "      <td>Manhattan</td>\n",
       "      <td>Harlem</td>\n",
       "      <td>40.80902</td>\n",
       "      <td>-73.94190</td>\n",
       "      <td>Private room</td>\n",
       "      <td>150</td>\n",
       "      <td>3</td>\n",
       "      <td>0</td>\n",
       "      <td>NaN</td>\n",
       "      <td>NaN</td>\n",
       "      <td>1</td>\n",
       "      <td>365</td>\n",
       "    </tr>\n",
       "    <tr>\n",
       "      <th>3</th>\n",
       "      <td>3831</td>\n",
       "      <td>Cozy Entire Floor of Brownstone</td>\n",
       "      <td>4869</td>\n",
       "      <td>LisaRoxanne</td>\n",
       "      <td>Brooklyn</td>\n",
       "      <td>Clinton Hill</td>\n",
       "      <td>40.68514</td>\n",
       "      <td>-73.95976</td>\n",
       "      <td>Entire home/apt</td>\n",
       "      <td>89</td>\n",
       "      <td>1</td>\n",
       "      <td>270</td>\n",
       "      <td>2019-07-05</td>\n",
       "      <td>4.64</td>\n",
       "      <td>1</td>\n",
       "      <td>194</td>\n",
       "    </tr>\n",
       "    <tr>\n",
       "      <th>4</th>\n",
       "      <td>5022</td>\n",
       "      <td>Entire Apt: Spacious Studio/Loft by central park</td>\n",
       "      <td>7192</td>\n",
       "      <td>Laura</td>\n",
       "      <td>Manhattan</td>\n",
       "      <td>East Harlem</td>\n",
       "      <td>40.79851</td>\n",
       "      <td>-73.94399</td>\n",
       "      <td>Entire home/apt</td>\n",
       "      <td>80</td>\n",
       "      <td>10</td>\n",
       "      <td>9</td>\n",
       "      <td>2018-11-19</td>\n",
       "      <td>0.10</td>\n",
       "      <td>1</td>\n",
       "      <td>0</td>\n",
       "    </tr>\n",
       "  </tbody>\n",
       "</table>\n",
       "</div>"
      ],
      "text/plain": [
       "     id                                              name  host_id  \\\n",
       "0  2539                Clean & quiet apt home by the park     2787   \n",
       "1  2595                             Skylit Midtown Castle     2845   \n",
       "2  3647               THE VILLAGE OF HARLEM....NEW YORK !     4632   \n",
       "3  3831                   Cozy Entire Floor of Brownstone     4869   \n",
       "4  5022  Entire Apt: Spacious Studio/Loft by central park     7192   \n",
       "\n",
       "     host_name neighbourhood_group neighbourhood  latitude  longitude  \\\n",
       "0         John            Brooklyn    Kensington  40.64749  -73.97237   \n",
       "1     Jennifer           Manhattan       Midtown  40.75362  -73.98377   \n",
       "2    Elisabeth           Manhattan        Harlem  40.80902  -73.94190   \n",
       "3  LisaRoxanne            Brooklyn  Clinton Hill  40.68514  -73.95976   \n",
       "4        Laura           Manhattan   East Harlem  40.79851  -73.94399   \n",
       "\n",
       "         room_type  price  minimum_nights  number_of_reviews last_review  \\\n",
       "0     Private room    149               1                  9  2018-10-19   \n",
       "1  Entire home/apt    225               1                 45  2019-05-21   \n",
       "2     Private room    150               3                  0         NaN   \n",
       "3  Entire home/apt     89               1                270  2019-07-05   \n",
       "4  Entire home/apt     80              10                  9  2018-11-19   \n",
       "\n",
       "   reviews_per_month  calculated_host_listings_count  availability_365  \n",
       "0               0.21                               6               365  \n",
       "1               0.38                               2               355  \n",
       "2                NaN                               1               365  \n",
       "3               4.64                               1               194  \n",
       "4               0.10                               1                 0  "
      ]
     },
     "execution_count": 23,
     "metadata": {},
     "output_type": "execute_result"
    }
   ],
   "source": [
    "# Necesitamos realizar un análisis inicial.\n",
    "# Esto incluye conocer de cuantas observaciones y cuantas características disponemos.\n",
    "\n",
    "df = pd.read_csv(\"data/AB_NYC_2019.csv\")\n",
    "print(\"Dimensiones:\" + str(df.shape))\n",
    "\n",
    "\n",
    "df.head()"
   ]
  },
  {
   "cell_type": "code",
   "execution_count": 26,
   "metadata": {
    "scrolled": true
   },
   "outputs": [
    {
     "data": {
      "text/plain": [
       "id                                  int64\n",
       "name                               object\n",
       "host_id                             int64\n",
       "host_name                          object\n",
       "neighbourhood_group                object\n",
       "neighbourhood                      object\n",
       "latitude                          float64\n",
       "longitude                         float64\n",
       "room_type                          object\n",
       "price                               int64\n",
       "minimum_nights                      int64\n",
       "number_of_reviews                   int64\n",
       "last_review                        object\n",
       "reviews_per_month                 float64\n",
       "calculated_host_listings_count      int64\n",
       "availability_365                    int64\n",
       "dtype: object"
      ]
     },
     "execution_count": 26,
     "metadata": {},
     "output_type": "execute_result"
    }
   ],
   "source": [
    "# Vamos a ver los tipos de los datos con los que deberemos trabajar\n",
    "\n",
    "df.dtypes"
   ]
  },
  {
   "cell_type": "code",
   "execution_count": 30,
   "metadata": {
    "scrolled": true
   },
   "outputs": [
    {
     "data": {
      "text/html": [
       "<div>\n",
       "<style scoped>\n",
       "    .dataframe tbody tr th:only-of-type {\n",
       "        vertical-align: middle;\n",
       "    }\n",
       "\n",
       "    .dataframe tbody tr th {\n",
       "        vertical-align: top;\n",
       "    }\n",
       "\n",
       "    .dataframe thead th {\n",
       "        text-align: right;\n",
       "    }\n",
       "</style>\n",
       "<table border=\"1\" class=\"dataframe\">\n",
       "  <thead>\n",
       "    <tr style=\"text-align: right;\">\n",
       "      <th></th>\n",
       "      <th>id</th>\n",
       "      <th>host_id</th>\n",
       "      <th>latitude</th>\n",
       "      <th>longitude</th>\n",
       "      <th>price</th>\n",
       "      <th>minimum_nights</th>\n",
       "      <th>number_of_reviews</th>\n",
       "      <th>reviews_per_month</th>\n",
       "      <th>calculated_host_listings_count</th>\n",
       "      <th>availability_365</th>\n",
       "    </tr>\n",
       "  </thead>\n",
       "  <tbody>\n",
       "    <tr>\n",
       "      <th>count</th>\n",
       "      <td>4.889500e+04</td>\n",
       "      <td>4.889500e+04</td>\n",
       "      <td>48895.000000</td>\n",
       "      <td>48895.000000</td>\n",
       "      <td>48895.000000</td>\n",
       "      <td>48895.000000</td>\n",
       "      <td>48895.000000</td>\n",
       "      <td>38843.000000</td>\n",
       "      <td>48895.000000</td>\n",
       "      <td>48895.000000</td>\n",
       "    </tr>\n",
       "    <tr>\n",
       "      <th>mean</th>\n",
       "      <td>1.901714e+07</td>\n",
       "      <td>6.762001e+07</td>\n",
       "      <td>40.728949</td>\n",
       "      <td>-73.952170</td>\n",
       "      <td>152.720687</td>\n",
       "      <td>7.029962</td>\n",
       "      <td>23.274466</td>\n",
       "      <td>1.373221</td>\n",
       "      <td>7.143982</td>\n",
       "      <td>112.781327</td>\n",
       "    </tr>\n",
       "    <tr>\n",
       "      <th>std</th>\n",
       "      <td>1.098311e+07</td>\n",
       "      <td>7.861097e+07</td>\n",
       "      <td>0.054530</td>\n",
       "      <td>0.046157</td>\n",
       "      <td>240.154170</td>\n",
       "      <td>20.510550</td>\n",
       "      <td>44.550582</td>\n",
       "      <td>1.680442</td>\n",
       "      <td>32.952519</td>\n",
       "      <td>131.622289</td>\n",
       "    </tr>\n",
       "    <tr>\n",
       "      <th>min</th>\n",
       "      <td>2.539000e+03</td>\n",
       "      <td>2.438000e+03</td>\n",
       "      <td>40.499790</td>\n",
       "      <td>-74.244420</td>\n",
       "      <td>0.000000</td>\n",
       "      <td>1.000000</td>\n",
       "      <td>0.000000</td>\n",
       "      <td>0.010000</td>\n",
       "      <td>1.000000</td>\n",
       "      <td>0.000000</td>\n",
       "    </tr>\n",
       "    <tr>\n",
       "      <th>25%</th>\n",
       "      <td>9.471945e+06</td>\n",
       "      <td>7.822033e+06</td>\n",
       "      <td>40.690100</td>\n",
       "      <td>-73.983070</td>\n",
       "      <td>69.000000</td>\n",
       "      <td>1.000000</td>\n",
       "      <td>1.000000</td>\n",
       "      <td>0.190000</td>\n",
       "      <td>1.000000</td>\n",
       "      <td>0.000000</td>\n",
       "    </tr>\n",
       "    <tr>\n",
       "      <th>50%</th>\n",
       "      <td>1.967728e+07</td>\n",
       "      <td>3.079382e+07</td>\n",
       "      <td>40.723070</td>\n",
       "      <td>-73.955680</td>\n",
       "      <td>106.000000</td>\n",
       "      <td>3.000000</td>\n",
       "      <td>5.000000</td>\n",
       "      <td>0.720000</td>\n",
       "      <td>1.000000</td>\n",
       "      <td>45.000000</td>\n",
       "    </tr>\n",
       "    <tr>\n",
       "      <th>75%</th>\n",
       "      <td>2.915218e+07</td>\n",
       "      <td>1.074344e+08</td>\n",
       "      <td>40.763115</td>\n",
       "      <td>-73.936275</td>\n",
       "      <td>175.000000</td>\n",
       "      <td>5.000000</td>\n",
       "      <td>24.000000</td>\n",
       "      <td>2.020000</td>\n",
       "      <td>2.000000</td>\n",
       "      <td>227.000000</td>\n",
       "    </tr>\n",
       "    <tr>\n",
       "      <th>max</th>\n",
       "      <td>3.648724e+07</td>\n",
       "      <td>2.743213e+08</td>\n",
       "      <td>40.913060</td>\n",
       "      <td>-73.712990</td>\n",
       "      <td>10000.000000</td>\n",
       "      <td>1250.000000</td>\n",
       "      <td>629.000000</td>\n",
       "      <td>58.500000</td>\n",
       "      <td>327.000000</td>\n",
       "      <td>365.000000</td>\n",
       "    </tr>\n",
       "  </tbody>\n",
       "</table>\n",
       "</div>"
      ],
      "text/plain": [
       "                 id       host_id      latitude     longitude         price  \\\n",
       "count  4.889500e+04  4.889500e+04  48895.000000  48895.000000  48895.000000   \n",
       "mean   1.901714e+07  6.762001e+07     40.728949    -73.952170    152.720687   \n",
       "std    1.098311e+07  7.861097e+07      0.054530      0.046157    240.154170   \n",
       "min    2.539000e+03  2.438000e+03     40.499790    -74.244420      0.000000   \n",
       "25%    9.471945e+06  7.822033e+06     40.690100    -73.983070     69.000000   \n",
       "50%    1.967728e+07  3.079382e+07     40.723070    -73.955680    106.000000   \n",
       "75%    2.915218e+07  1.074344e+08     40.763115    -73.936275    175.000000   \n",
       "max    3.648724e+07  2.743213e+08     40.913060    -73.712990  10000.000000   \n",
       "\n",
       "       minimum_nights  number_of_reviews  reviews_per_month  \\\n",
       "count    48895.000000       48895.000000       38843.000000   \n",
       "mean         7.029962          23.274466           1.373221   \n",
       "std         20.510550          44.550582           1.680442   \n",
       "min          1.000000           0.000000           0.010000   \n",
       "25%          1.000000           1.000000           0.190000   \n",
       "50%          3.000000           5.000000           0.720000   \n",
       "75%          5.000000          24.000000           2.020000   \n",
       "max       1250.000000         629.000000          58.500000   \n",
       "\n",
       "       calculated_host_listings_count  availability_365  \n",
       "count                    48895.000000      48895.000000  \n",
       "mean                         7.143982        112.781327  \n",
       "std                         32.952519        131.622289  \n",
       "min                          1.000000          0.000000  \n",
       "25%                          1.000000          0.000000  \n",
       "50%                          1.000000         45.000000  \n",
       "75%                          2.000000        227.000000  \n",
       "max                        327.000000        365.000000  "
      ]
     },
     "execution_count": 30,
     "metadata": {},
     "output_type": "execute_result"
    }
   ],
   "source": [
    "#Finalmente una primera descripción de los datos de tipo numérico\n",
    "df.describe()"
   ]
  },
  {
   "cell_type": "code",
   "execution_count": 150,
   "metadata": {},
   "outputs": [
    {
     "data": {
      "text/plain": [
       "array(['Brooklyn', 'Manhattan', 'Queens', 'Staten Island', 'Bronx'],\n",
       "      dtype=object)"
      ]
     },
     "execution_count": 150,
     "metadata": {},
     "output_type": "execute_result"
    }
   ],
   "source": [
    "# Es interesante saber si los datos en formato texto estan representando categorias \n",
    "# o corresponden a texto no formalmente construido\n",
    "df.neighbourhood_group.unique()"
   ]
  },
  {
   "cell_type": "code",
   "execution_count": 103,
   "metadata": {},
   "outputs": [
    {
     "data": {
      "text/plain": [
       "array(['Private room', 'Entire home/apt', 'Shared room'], dtype=object)"
      ]
     },
     "execution_count": 103,
     "metadata": {},
     "output_type": "execute_result"
    }
   ],
   "source": [
    "df.room_type.unique()"
   ]
  },
  {
   "cell_type": "code",
   "execution_count": 152,
   "metadata": {},
   "outputs": [
    {
     "name": "stdout",
     "output_type": "stream",
     "text": [
      "['John' 'Jennifer' 'Elisabeth' ... 'Abayomi' 'Alberth' 'Ilgar & Aysel']\n"
     ]
    },
    {
     "data": {
      "text/plain": [
       "11453"
      ]
     },
     "execution_count": 152,
     "metadata": {},
     "output_type": "execute_result"
    }
   ],
   "source": [
    "print(df[\"host_name\"].unique())\n",
    "\n",
    "len(df[\"host_name\"].unique())"
   ]
  },
  {
   "cell_type": "markdown",
   "metadata": {},
   "source": [
    "**Podemos  realizar diferentes visualizaciones de nuestros datos para obtener conocimiento sobre estos**\n",
    "\n",
    "\n",
    "[Pandas Visualizations](https://pandas.pydata.org/pandas-docs/stable/user_guide/visualization.html)\n"
   ]
  },
  {
   "cell_type": "code",
   "execution_count": 32,
   "metadata": {
    "scrolled": true
   },
   "outputs": [
    {
     "data": {
      "image/png": "[encoded data removed]",
      "text/plain": [
       "<Figure size 432x288 with 1 Axes>"
      ]
     },
     "metadata": {
      "needs_background": "light"
     },
     "output_type": "display_data"
    }
   ],
   "source": [
    "df[\"price\"].plot(kind='hist');"
   ]
  },
  {
   "cell_type": "code",
   "execution_count": 34,
   "metadata": {},
   "outputs": [
    {
     "data": {
      "image/png": "[encoded data removed]",
      "text/plain": [
       "<Figure size 432x288 with 1 Axes>"
      ]
     },
     "metadata": {
      "needs_background": "light"
     },
     "output_type": "display_data"
    }
   ],
   "source": [
    "plt.hist(df.price, bins=100);"
   ]
  },
  {
   "cell_type": "code",
   "execution_count": 78,
   "metadata": {
    "scrolled": true
   },
   "outputs": [
    {
     "data": {
      "image/png": "[encoded data removed]",
      "text/plain": [
       "<Figure size 576x432 with 2 Axes>"
      ]
     },
     "metadata": {
      "needs_background": "light"
     },
     "output_type": "display_data"
    }
   ],
   "source": [
    "df[\"neighbourcat\"] = df.neighbourhood_group.astype(\"category\").cat.codes\n",
    "\n",
    "viz_4=df.plot(kind='scatter', x='longitude', y='latitude', c='neighbourcat',\n",
    "                  cmap=plt.get_cmap('jet'), colorbar=True, alpha=0.4, figsize=(8,6))\n"
   ]
  },
  {
   "cell_type": "code",
   "execution_count": 147,
   "metadata": {},
   "outputs": [
    {
     "data": {
      "text/plain": [
       "219517861    327\n",
       "107434423    232\n",
       "30283594     121\n",
       "137358866    103\n",
       "12243051      96\n",
       "16098958      96\n",
       "61391963      91\n",
       "22541573      87\n",
       "200380610     65\n",
       "7503643       52\n",
       "Name: host_id, dtype: int64"
      ]
     },
     "execution_count": 147,
     "metadata": {},
     "output_type": "execute_result"
    }
   ],
   "source": [
    "# Vamos a ver si tenemos grandes propietarios. \n",
    "top = df.host_id.value_counts()\n",
    "top.head(10)"
   ]
  },
  {
   "cell_type": "code",
   "execution_count": 153,
   "metadata": {},
   "outputs": [],
   "source": [
    "# Que otras visualizaciones podrian ser de interés?"
   ]
  },
  {
   "cell_type": "markdown",
   "metadata": {},
   "source": [
    "\n",
    "## Limpieza\n",
    "\n",
    "La limpieza de datos involucra diferentes técnicas según el problema a solucionar y el tipo de datos que se esta tratando. \n",
    "\n",
    "En general, los datos incorrectos se eliminan, se corrigen o se etiquetan.\n",
    "\n",
    "### Datos irrelevantes\n",
    "\n",
    "Los datos irrelevantes son aquellos que realmente no se necesitan y no se ajustan al contexto del problema que estamos tratando de resolver.\n",
    "\n",
    "Por ejemplo, si estuviéramos analizando datos sobre la salud general de la población, el número de teléfono no sería necesario. **Solamente debemos descartar** aquellos datos de los que estamos seguros que son irrelevantes.\n",
    "\n",
    "\n",
    "\n"
   ]
  },
  {
   "cell_type": "code",
   "execution_count": 28,
   "metadata": {},
   "outputs": [
    {
     "data": {
      "text/html": [
       "<div>\n",
       "<style scoped>\n",
       "    .dataframe tbody tr th:only-of-type {\n",
       "        vertical-align: middle;\n",
       "    }\n",
       "\n",
       "    .dataframe tbody tr th {\n",
       "        vertical-align: top;\n",
       "    }\n",
       "\n",
       "    .dataframe thead th {\n",
       "        text-align: right;\n",
       "    }\n",
       "</style>\n",
       "<table border=\"1\" class=\"dataframe\">\n",
       "  <thead>\n",
       "    <tr style=\"text-align: right;\">\n",
       "      <th></th>\n",
       "      <th>name</th>\n",
       "      <th>host_id</th>\n",
       "      <th>neighbourhood_group</th>\n",
       "      <th>neighbourhood</th>\n",
       "      <th>latitude</th>\n",
       "      <th>longitude</th>\n",
       "      <th>room_type</th>\n",
       "      <th>price</th>\n",
       "      <th>minimum_nights</th>\n",
       "      <th>number_of_reviews</th>\n",
       "      <th>last_review</th>\n",
       "      <th>reviews_per_month</th>\n",
       "      <th>calculated_host_listings_count</th>\n",
       "      <th>availability_365</th>\n",
       "    </tr>\n",
       "  </thead>\n",
       "  <tbody>\n",
       "    <tr>\n",
       "      <th>0</th>\n",
       "      <td>Clean &amp; quiet apt home by the park</td>\n",
       "      <td>2787</td>\n",
       "      <td>Brooklyn</td>\n",
       "      <td>Kensington</td>\n",
       "      <td>40.64749</td>\n",
       "      <td>-73.97237</td>\n",
       "      <td>Private room</td>\n",
       "      <td>149</td>\n",
       "      <td>1</td>\n",
       "      <td>9</td>\n",
       "      <td>2018-10-19</td>\n",
       "      <td>0.21</td>\n",
       "      <td>6</td>\n",
       "      <td>365</td>\n",
       "    </tr>\n",
       "    <tr>\n",
       "      <th>1</th>\n",
       "      <td>Skylit Midtown Castle</td>\n",
       "      <td>2845</td>\n",
       "      <td>Manhattan</td>\n",
       "      <td>Midtown</td>\n",
       "      <td>40.75362</td>\n",
       "      <td>-73.98377</td>\n",
       "      <td>Entire home/apt</td>\n",
       "      <td>225</td>\n",
       "      <td>1</td>\n",
       "      <td>45</td>\n",
       "      <td>2019-05-21</td>\n",
       "      <td>0.38</td>\n",
       "      <td>2</td>\n",
       "      <td>355</td>\n",
       "    </tr>\n",
       "    <tr>\n",
       "      <th>2</th>\n",
       "      <td>THE VILLAGE OF HARLEM....NEW YORK !</td>\n",
       "      <td>4632</td>\n",
       "      <td>Manhattan</td>\n",
       "      <td>Harlem</td>\n",
       "      <td>40.80902</td>\n",
       "      <td>-73.94190</td>\n",
       "      <td>Private room</td>\n",
       "      <td>150</td>\n",
       "      <td>3</td>\n",
       "      <td>0</td>\n",
       "      <td>NaN</td>\n",
       "      <td>NaN</td>\n",
       "      <td>1</td>\n",
       "      <td>365</td>\n",
       "    </tr>\n",
       "    <tr>\n",
       "      <th>3</th>\n",
       "      <td>Cozy Entire Floor of Brownstone</td>\n",
       "      <td>4869</td>\n",
       "      <td>Brooklyn</td>\n",
       "      <td>Clinton Hill</td>\n",
       "      <td>40.68514</td>\n",
       "      <td>-73.95976</td>\n",
       "      <td>Entire home/apt</td>\n",
       "      <td>89</td>\n",
       "      <td>1</td>\n",
       "      <td>270</td>\n",
       "      <td>2019-07-05</td>\n",
       "      <td>4.64</td>\n",
       "      <td>1</td>\n",
       "      <td>194</td>\n",
       "    </tr>\n",
       "    <tr>\n",
       "      <th>4</th>\n",
       "      <td>Entire Apt: Spacious Studio/Loft by central park</td>\n",
       "      <td>7192</td>\n",
       "      <td>Manhattan</td>\n",
       "      <td>East Harlem</td>\n",
       "      <td>40.79851</td>\n",
       "      <td>-73.94399</td>\n",
       "      <td>Entire home/apt</td>\n",
       "      <td>80</td>\n",
       "      <td>10</td>\n",
       "      <td>9</td>\n",
       "      <td>2018-11-19</td>\n",
       "      <td>0.10</td>\n",
       "      <td>1</td>\n",
       "      <td>0</td>\n",
       "    </tr>\n",
       "  </tbody>\n",
       "</table>\n",
       "</div>"
      ],
      "text/plain": [
       "                                               name  host_id  \\\n",
       "0                Clean & quiet apt home by the park     2787   \n",
       "1                             Skylit Midtown Castle     2845   \n",
       "2               THE VILLAGE OF HARLEM....NEW YORK !     4632   \n",
       "3                   Cozy Entire Floor of Brownstone     4869   \n",
       "4  Entire Apt: Spacious Studio/Loft by central park     7192   \n",
       "\n",
       "  neighbourhood_group neighbourhood  latitude  longitude        room_type  \\\n",
       "0            Brooklyn    Kensington  40.64749  -73.97237     Private room   \n",
       "1           Manhattan       Midtown  40.75362  -73.98377  Entire home/apt   \n",
       "2           Manhattan        Harlem  40.80902  -73.94190     Private room   \n",
       "3            Brooklyn  Clinton Hill  40.68514  -73.95976  Entire home/apt   \n",
       "4           Manhattan   East Harlem  40.79851  -73.94399  Entire home/apt   \n",
       "\n",
       "   price  minimum_nights  number_of_reviews last_review  reviews_per_month  \\\n",
       "0    149               1                  9  2018-10-19               0.21   \n",
       "1    225               1                 45  2019-05-21               0.38   \n",
       "2    150               3                  0         NaN                NaN   \n",
       "3     89               1                270  2019-07-05               4.64   \n",
       "4     80              10                  9  2018-11-19               0.10   \n",
       "\n",
       "   calculated_host_listings_count  availability_365  \n",
       "0                               6               365  \n",
       "1                               2               355  \n",
       "2                               1               365  \n",
       "3                               1               194  \n",
       "4                               1                 0  "
      ]
     },
     "execution_count": 28,
     "metadata": {},
     "output_type": "execute_result"
    }
   ],
   "source": [
    "# Usando pandas podemos eliminar las columnas / features que no nos interesen\n",
    "\n",
    "df_clean = df.drop(['id','host_name'], axis=1)\n",
    "df_clean.head()"
   ]
  },
  {
   "cell_type": "markdown",
   "metadata": {},
   "source": [
    "### Datos duplicados\n",
    "\n",
    "Los duplicados son aquellas observaciones que se repiten en su conjunto de datos.\n",
    "\n",
    "A menudo sucede cuando, por ejemplo:\n",
    "\n",
    "   * Los datos se combinan de diferentes fuentes.\n",
    "   * Errores del propio usuario.\n",
    "     \n",
    "\n",
    "Estos, simplemente deben eliminarse.\n"
   ]
  },
  {
   "cell_type": "markdown",
   "metadata": {},
   "source": [
    "### Errores de tipo\n",
    "\n",
    "En general cada tipo de datos tiene sus propios errores, vamos a describir los más comunes.\n",
    "\n",
    "Es necesario asegurarse que los **números** estén almacenados como datos numéricos con el tipo adecuado.\n",
    "\n",
    "Las **fechas** deben almacenarse como un objeto de tipo fecha y tener un formato único para todo el conjunto de datos.\n",
    "\n",
    "\n",
    "También debemos tener en cuenta todos los errores que pueden derivarse del uso de ***strings* o texto en general**. La información en formato texto será una gran fuente de problemas, debemos pensar que la introducción de esta información no es *cerrada* y esto genera muchos errores.\n",
    "\n",
    "* Información adicional antes, despues o entre palabras. Por ejemplo: espacios en blanco.\n",
    "* Categorias con múltiples nombres que deben ser normalizadas. Por ejemplo: *Hombre, H, hombre, hmbre*. \n",
    "* Palabras que aportan información muy similar.\n",
    "\n",
    "Muchas veces una visualización gráfica o un conteo de valores únicos por columna nos ayudará como se esta formada nuestra columna y detectar errores relacionados con el texto. Varias soluciones posibles pasan por *mapear* manualmente los diferentes valores a uno común, crear expresiones regulares para normalizarlos (p.ej pasar todas las letras a minúsculas) o crear funciones distancia para saber a cual de las categorias petenecen los distintos términos.\n",
    "\n",
    "\n",
    "**Advertencia:** los valores que no se pueden convertir al tipo especificado deben convertirse al valor de *NA/NAN*. Esto indica que el valor es incorrecto y debe ser reparado.\n"
   ]
  },
  {
   "cell_type": "markdown",
   "metadata": {},
   "source": [
    "### Estandarizado\n",
    "\n",
    "Nuestro deber es no solo reconocer los errores tipográficos, sino también poner cada valor en el mismo formato estandarizado.\n",
    "\n",
    "Para los *strings*, debemos asegurarnos que todos los valores estan en minúsculas o mayúsculas.\n",
    "\n",
    "Para valores numéricos, debemos asegurarnos que todos los valores tengan una determinada unidad de medida. La altura, por ejemplo, puede ser en metros y centímetros. La diferencia de 1 metro se considera igual que la diferencia de 1 centímetro.\n",
    "\n"
   ]
  },
  {
   "cell_type": "code",
   "execution_count": 161,
   "metadata": {},
   "outputs": [
    {
     "name": "stdout",
     "output_type": "stream",
     "text": [
      "0            Kensington\n",
      "1               Midtown\n",
      "2                Harlem\n",
      "3          Clinton Hill\n",
      "4           East Harlem\n",
      "5           Murray Hill\n",
      "6    Bedford-Stuyvesant\n",
      "7        Hell's Kitchen\n",
      "8       Upper West Side\n",
      "9             Chinatown\n",
      "Name: neighbourhood, dtype: object\n",
      "----------------------------------------------------------------------------------------------------\n",
      "0            kensington\n",
      "1               midtown\n",
      "2                harlem\n",
      "3          clinton hill\n",
      "4           east harlem\n",
      "5           murray hill\n",
      "6    bedford-stuyvesant\n",
      "7        hell's kitchen\n",
      "8       upper west side\n",
      "9             chinatown\n",
      "Name: neighbourhood, dtype: object\n"
     ]
    }
   ],
   "source": [
    "print(df.neighbourhood[:10])\n",
    "print(\"-\" * 100)\n",
    "print(df.neighbourhood[:10].str.lower()) #upper / capitalize / title"
   ]
  },
  {
   "cell_type": "markdown",
   "metadata": {},
   "source": [
    "\n",
    "Una de las dudas recurrentes es como tratamos los datos categóricos. Muchos de los tutoriales que encontrareis os sugerirán que podeis transformarlos directamente en datos numéricos y eso es verdad si nuestros datos son binarios, de lo contrario podemos esstar dando más peso a las categorias con valores mas elevados.\n"
   ]
  },
  {
   "cell_type": "code",
   "execution_count": 162,
   "metadata": {},
   "outputs": [
    {
     "name": "stdout",
     "output_type": "stream",
     "text": [
      "[1 2 2 1 2 2 1 2 2 2 2 2 1 2 2 1 1 2 1 2 1 1 1 1 1 1 2 2 2 2 2 2 1 2 1 1 1\n",
      " 1 1 2 2 1 1 2 2 1 3 1 1 1 1 2 1 1 2 1 2 2 1 2 1 2 2 1 1 2 1 2 1 2 2 2 2 2\n",
      " 1 2 2 3 1 2 1 2 2 1 2 1 1 2 2 1 1 1 1 1 1 1 2 2 2 1]\n"
     ]
    }
   ],
   "source": [
    "#Vamos a transformar una categoria de texto a número\n",
    "\n",
    "from sklearn.preprocessing import LabelEncoder\n",
    "labels = LabelEncoder()\n",
    "X = labels.fit_transform(df.neighbourhood_group)\n",
    "print(X[:100])\n"
   ]
  },
  {
   "cell_type": "code",
   "execution_count": 95,
   "metadata": {},
   "outputs": [
    {
     "name": "stdout",
     "output_type": "stream",
     "text": [
      "[[0. 1. 0. 0. 0.]\n",
      " [0. 0. 1. 0. 0.]\n",
      " [0. 0. 1. 0. 0.]\n",
      " [0. 1. 0. 0. 0.]\n",
      " [0. 0. 1. 0. 0.]\n",
      " [0. 0. 1. 0. 0.]\n",
      " [0. 1. 0. 0. 0.]\n",
      " [0. 0. 1. 0. 0.]\n",
      " [0. 0. 1. 0. 0.]\n",
      " [0. 0. 1. 0. 0.]]\n"
     ]
    }
   ],
   "source": [
    "#Si estamos usando un dataset en formato matricial\n",
    "\n",
    "from sklearn.preprocessing import OneHotEncoder\n",
    "onehotencoder = OneHotEncoder(categorical_features = [0])\n",
    "\n",
    "Y = onehotencoder.fit_transform(X.reshape(-1, 1)).toarray()\n",
    "print(Y[:10,:])"
   ]
  },
  {
   "cell_type": "code",
   "execution_count": 99,
   "metadata": {},
   "outputs": [
    {
     "data": {
      "text/html": [
       "<div>\n",
       "<style scoped>\n",
       "    .dataframe tbody tr th:only-of-type {\n",
       "        vertical-align: middle;\n",
       "    }\n",
       "\n",
       "    .dataframe tbody tr th {\n",
       "        vertical-align: top;\n",
       "    }\n",
       "\n",
       "    .dataframe thead th {\n",
       "        text-align: right;\n",
       "    }\n",
       "</style>\n",
       "<table border=\"1\" class=\"dataframe\">\n",
       "  <thead>\n",
       "    <tr style=\"text-align: right;\">\n",
       "      <th></th>\n",
       "      <th>Bronx</th>\n",
       "      <th>Brooklyn</th>\n",
       "      <th>Manhattan</th>\n",
       "      <th>Queens</th>\n",
       "      <th>Staten Island</th>\n",
       "    </tr>\n",
       "  </thead>\n",
       "  <tbody>\n",
       "    <tr>\n",
       "      <th>0</th>\n",
       "      <td>0</td>\n",
       "      <td>1</td>\n",
       "      <td>0</td>\n",
       "      <td>0</td>\n",
       "      <td>0</td>\n",
       "    </tr>\n",
       "    <tr>\n",
       "      <th>1</th>\n",
       "      <td>0</td>\n",
       "      <td>0</td>\n",
       "      <td>1</td>\n",
       "      <td>0</td>\n",
       "      <td>0</td>\n",
       "    </tr>\n",
       "    <tr>\n",
       "      <th>2</th>\n",
       "      <td>0</td>\n",
       "      <td>0</td>\n",
       "      <td>1</td>\n",
       "      <td>0</td>\n",
       "      <td>0</td>\n",
       "    </tr>\n",
       "    <tr>\n",
       "      <th>3</th>\n",
       "      <td>0</td>\n",
       "      <td>1</td>\n",
       "      <td>0</td>\n",
       "      <td>0</td>\n",
       "      <td>0</td>\n",
       "    </tr>\n",
       "    <tr>\n",
       "      <th>4</th>\n",
       "      <td>0</td>\n",
       "      <td>0</td>\n",
       "      <td>1</td>\n",
       "      <td>0</td>\n",
       "      <td>0</td>\n",
       "    </tr>\n",
       "  </tbody>\n",
       "</table>\n",
       "</div>"
      ],
      "text/plain": [
       "   Bronx  Brooklyn  Manhattan  Queens  Staten Island\n",
       "0      0         1          0       0              0\n",
       "1      0         0          1       0              0\n",
       "2      0         0          1       0              0\n",
       "3      0         1          0       0              0\n",
       "4      0         0          1       0              0"
      ]
     },
     "execution_count": 99,
     "metadata": {},
     "output_type": "execute_result"
    }
   ],
   "source": [
    "#Si tenemos un dataset en pandas.\n",
    "\n",
    "pd.get_dummies(df.neighbourhood_group).head()"
   ]
  },
  {
   "cell_type": "markdown",
   "metadata": {},
   "source": [
    "### Escalado\n",
    "\n",
    "Escalar significa transformar los datos para que se ajusten a una escala específica, como 0–100 o 0–1.\n",
    "\n",
    "También puede ayudar a hacer que ciertos tipos de datos sean más fáciles de mostrar graficamente. Por ejemplo, podríamos querer reducir la asimetría para ayudar a dibujar (cuando se tienen tantos valores atípicos). Las funciones más utilizadas son log, raíz cuadrada e inversa.\n",
    "\n",
    "El escalado también puede tener lugar en datos que tienen diferentes unidades de medida. Al escalar podemos comparar diferentes *features* de una manera más senzilla.\n",
    "\n",
    "\n"
   ]
  },
  {
   "cell_type": "code",
   "execution_count": 16,
   "metadata": {},
   "outputs": [
    {
     "data": {
      "text/plain": [
       "(array([4.3298e+04, 3.5710e+03, 1.2660e+03, 4.9900e+02, 1.4300e+02,\n",
       "        6.7000e+01, 3.1000e+01, 1.2000e+01, 3.0000e+00, 5.0000e+00]),\n",
       " array([-0.52243321,  0.88945952,  2.30135225,  3.71324498,  5.12513771,\n",
       "         6.53703044,  7.94892317,  9.3608159 , 10.77270863, 12.18460136,\n",
       "        13.59649409]),\n",
       " <a list of 10 Patch objects>)"
      ]
     },
     "execution_count": 16,
     "metadata": {},
     "output_type": "execute_result"
    },
    {
     "data": {
      "image/png": "[encoded data removed]",
      "text/plain": [
       "<Figure size 432x288 with 2 Axes>"
      ]
     },
     "metadata": {
      "needs_background": "light"
     },
     "output_type": "display_data"
    }
   ],
   "source": [
    "# Cómo escalamos?\n",
    "\n",
    "from sklearn.preprocessing import StandardScaler\n",
    "\n",
    "sc_X = StandardScaler()\n",
    "\n",
    "n_reviews = df.number_of_reviews.values\n",
    "n_reviews = n_reviews.astype(float)\n",
    "transformed = sc_X.fit_transform(n_reviews.reshape(-1, 1))\n",
    "\n",
    "fig, (ax1, ax2) = plt.subplots(1, 2, sharey=True)\n",
    "fig.suptitle('Horizontally stacked subplots')\n",
    "\n",
    "\n",
    "ax1.hist(n_reviews)\n",
    "ax2.hist(transformed)\n"
   ]
  },
  {
   "cell_type": "code",
   "execution_count": 17,
   "metadata": {},
   "outputs": [],
   "source": [
    "StandardScaler?"
   ]
  },
  {
   "cell_type": "markdown",
   "metadata": {},
   "source": [
    "[Documentación StandardScaler](https://scikit-learn.org/stable/modules/generated/sklearn.preprocessing.StandardScaler.html)"
   ]
  },
  {
   "cell_type": "markdown",
   "metadata": {},
   "source": [
    "### Normalización\n",
    "\n",
    "Si bien la normalización también reescala los valores en un rango de 0-1, la intención aquí es transformar los datos para que se distribuyan normalmente. ¿Por qué?\n",
    "\n",
    "En la mayoría de los casos, normalizamos los datos si vamos a utilizar métodos estadísticos que se basan en datos distribuidos normalmente. \n",
    "\n",
    "[Enlace](https://en.wikipedia.org/wiki/Normalization_(statistics)#Examples)\n",
    "\n"
   ]
  },
  {
   "cell_type": "code",
   "execution_count": null,
   "metadata": {},
   "outputs": [],
   "source": [
    "# Cómo normalizamos?"
   ]
  },
  {
   "cell_type": "markdown",
   "metadata": {},
   "source": [
    "### Valores faltantes\n",
    "\n",
    "Dado que los valores faltantes son inevitables, nos deja con la pregunta de qué hacer cuando los encontremos. Vamos a describir tres maneras de trabajar con ellos:\n"
   ]
  },
  {
   "cell_type": "code",
   "execution_count": 76,
   "metadata": {},
   "outputs": [
    {
     "data": {
      "text/plain": [
       "id                                    0\n",
       "name                                 16\n",
       "host_id                               0\n",
       "host_name                            21\n",
       "neighbourhood_group                   0\n",
       "neighbourhood                         0\n",
       "latitude                              0\n",
       "longitude                             0\n",
       "room_type                             0\n",
       "price                                 0\n",
       "minimum_nights                        0\n",
       "number_of_reviews                     0\n",
       "last_review                       10052\n",
       "reviews_per_month                 10052\n",
       "calculated_host_listings_count        0\n",
       "availability_365                      0\n",
       "neighbourcat                          0\n",
       "dtype: int64"
      ]
     },
     "execution_count": 76,
     "metadata": {},
     "output_type": "execute_result"
    }
   ],
   "source": [
    "# Esto nos proporciona una lista con los datos faltantes de cada columna\n",
    "df.isnull().sum()"
   ]
  },
  {
   "cell_type": "markdown",
   "metadata": {},
   "source": [
    "\n",
    "#### Uno: eliminar\n",
    "\n",
    "Si los valores faltantes en una columna rara vez ocurren y ocurren al azar, entonces la solución más fácil y más directa es eliminar las observaciones (filas) que tienen valores faltantes.\n",
    "\n",
    "Si faltan la mayoría de los valores de la columna y se producen al azar, entonces una decisión típica es descartar la columna completa.\n",
    "\n",
    "Esto es particularmente útil al hacer análisis estadísticos, ya que completar los valores faltantes puede producir resultados inesperados o sesgados."
   ]
  },
  {
   "cell_type": "code",
   "execution_count": 182,
   "metadata": {},
   "outputs": [
    {
     "data": {
      "text/plain": [
       "id                                    0\n",
       "name                                  0\n",
       "host_id                               0\n",
       "host_name                            21\n",
       "neighbourhood_group                   0\n",
       "neighbourhood                         0\n",
       "latitude                              0\n",
       "longitude                             0\n",
       "room_type                             0\n",
       "price                                 0\n",
       "minimum_nights                        0\n",
       "number_of_reviews                     0\n",
       "last_review                       10042\n",
       "reviews_per_month                 10042\n",
       "calculated_host_listings_count        0\n",
       "availability_365                      0\n",
       "dtype: int64"
      ]
     },
     "execution_count": 182,
     "metadata": {},
     "output_type": "execute_result"
    }
   ],
   "source": [
    "# Vamos a eliminar las filas sin nombre\n",
    "\n",
    "df_no_id = df.drop(df[df[\"name\"].isna()].index ,axis = 0)\n",
    "df_no_id.isnull().sum()"
   ]
  },
  {
   "cell_type": "markdown",
   "metadata": {},
   "source": [
    "#### Dos. Imputar\n",
    "\n",
    "Significa calcular el valor faltante basado en otras observaciones. Hay diferentes métodos para realizar esta tarea:\n",
    "\n",
    "El **primer** método es usar valores estadísticos como media, mediana. Sin embargo, ninguno de estos garantiza datos imparciales, especialmente si faltan muchos valores.\n",
    "\n",
    "La media es más útil cuando los datos originales no están sesgados, mientras que la mediana es más robusta, no sensible a los valores atípicos y, por lo tanto, se usa cuando pensamos que los datos están sesgados.\n",
    "\n",
    "En un dato distribuido normalmente, uno puede obtener todos los valores que están dentro de 2 desviaciones estándar de la media. Luego, podemos completar los valores faltantes generando números aleatorios dentro de esta distribución.\n",
    "\n",
    "Una **segunda** opción seria usando una regresión lineal. Con las base en los datos existentes, se puede calcular la mejor línea de ajuste entre dos variables muy correlacionadas, por ejemplo, precio de la vivienda versus su tamaño en m².\n",
    "\n",
    "Vale la pena mencionar que los modelos de regresión lineal son sensibles a los valores atípicos.\n",
    "\n",
    "[Documentación sklearn: Imputation](https://scikit-learn.org/stable/modules/impute.html)"
   ]
  },
  {
   "cell_type": "markdown",
   "metadata": {},
   "source": [
    "\n",
    "En **tercer** lugar podemos copiar valores de otros registros similares. Esta aproximación solo es útil si tenemos suficientes datos disponibles, se puede aplicar tanto a datos numéricos y categóricos.\n",
    "\n",
    "En la imputación secuencial,  la columna que contiene los valores faltantes se ordena de acuerdo con alguna de las otras variables para que los registros que tienen valores similares ocurran secuencialmente. A continuación, cada valor faltante se completa con el valor del siguiente registro disponible.\n",
    "\n",
    "Lo que es más interesante es que también se puede utilizar la imputación del vecino más cercano, que se beneficia de la utilización de algoritmos de clustering para completar el valor faltante con el vecino más cercano al registro."
   ]
  },
  {
   "cell_type": "markdown",
   "metadata": {},
   "source": [
    "\n",
    "#### Tres. Etiquetar\n",
    "\n",
    "Algunos argumentan que completar los valores faltantes conduce a una pérdida de información, sin importar el método de imputación que usemos.\n",
    "\n",
    "Esto se debe a que decir que faltan los datos es informativo en sí mismo, y el algoritmo debería saberlo. De lo contrario, solo estamos reforzando el patrón que ya existe por otras características.\n",
    "\n",
    "Esto es particularmente importante cuando los datos que faltan no ocurren al azar. Tomemos, por ejemplo, una encuesta realizada donde la mayoría de las personas de una raza específica se niegan a responder una determinada pregunta.\n",
    "\n",
    "Los datos numéricos que faltan se pueden completar con, 0, pero estos ceros deben ignorarse al calcular cualquier valor estadístico o al trazar la distribución.\n",
    "\n",
    "Si bien los datos categóricos se pueden completar con por ejemplo el valor \"falta\": una nueva categoría que indica que falta este dato.\n",
    "\n",
    "**Debemos tomar en consideración**\n",
    "\n",
    "Los valores faltantes no son los mismos que los valores predeterminados. Por ejemplo,el valor cero puede interpretarse como perdido o predeterminado, pero no como ambos.\n",
    "\n",
    "Los valores faltantes no son \"desconocidos\". Una investigación realizada en la que algunas personas no recordaban si habían sido intimidadas o no en la escuela, debe tratarse y etiquetarse como desconocida y no faltante.\n",
    "\n",
    "Cada vez que eliminamos o imputamos valores estamos perdiendo información. Entonces, la señalización podría venir al rescate.\n"
   ]
  },
  {
   "cell_type": "markdown",
   "metadata": {},
   "source": [
    "### Valores atípicos: *outliers*\n",
    "\n",
    "Son valores que son significativamente diferentes de todas las demás observaciones. Cualquier valor de datos que se encuentre a más de (1.5 * IQR) de los cuartiles Q1 y Q3 se considera un valor atípico.\n",
    "\n",
    "Los valores atípicos son inocentes hasta que se demuestre lo contrario. Dicho esto, no deben eliminarse a menos que haya una buena razón para ello.\n",
    "\n",
    "Por ejemplo, uno puede notar algunos valores extraños y sospechosos que es poco probable que ocurran, por lo que decide eliminarlos. Sin embargo, vale la pena investigar antes de eliminar.\n",
    "\n",
    "También vale la pena mencionar que algunos modelos, como la regresión lineal, son muy sensibles a los valores atípicos. En otras palabras, los valores atípicos podrían arrojar el modelo desde donde se encuentra la mayoría de los datos."
   ]
  },
  {
   "cell_type": "code",
   "execution_count": 22,
   "metadata": {},
   "outputs": [
    {
     "data": {
      "image/png": "[encoded data removed]",
      "text/plain": [
       "<Figure size 432x288 with 1 Axes>"
      ]
     },
     "metadata": {
      "needs_background": "light"
     },
     "output_type": "display_data"
    }
   ],
   "source": [
    "# Qué columnas tienen valores outliers? Vamos a  realizar observaciones gráficas mediante el uso de boxplot de seaborn\n",
    "\n",
    "import seaborn as sns\n",
    "import matplotlib.pyplot as plt\n",
    "\n",
    "# sns.boxplot(data=df.price);\n",
    "sns.boxplot(data=df.minimum_nights);"
   ]
  },
  {
   "cell_type": "markdown",
   "metadata": {},
   "source": [
    "# Verificación\n",
    "\n",
    "Cuando hayamos terminado,  debemos verificar la corrección volviendo a inspeccionar los datos y asegurándonos que las reglas y restricciones se cumplan.\n",
    "\n",
    "Por ejemplo, después de completar los datos que faltan, pueden violar cualquiera de las reglas y restricciones.\n",
    "\n",
    "Podría implicar realizar alguna corrección manual."
   ]
  },
  {
   "cell_type": "markdown",
   "metadata": {},
   "source": [
    "#### Lecturas\n",
    "\n",
    "* [Medium](https://towardsdatascience.com/the-ultimate-guide-to-data-cleaning-3969843991d4)\n",
    "* [Data cleaning](https://elitedatascience.com/data-cleaning)"
   ]
  }
 ],
 "metadata": {
  "kernelspec": {
   "display_name": "Python 3",
   "language": "python",
   "name": "python3"
  },
  "language_info": {
   "codemirror_mode": {
    "name": "ipython",
    "version": 3
   },
   "file_extension": ".py",
   "mimetype": "text/x-python",
   "name": "python",
   "nbconvert_exporter": "python",
   "pygments_lexer": "ipython3",
   "version": "3.7.4"
  }
 },
 "nbformat": 4,
 "nbformat_minor": 2
}
