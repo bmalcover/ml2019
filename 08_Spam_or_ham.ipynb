{
 "cells": [
  {
   "cell_type": "code",
   "execution_count": 4,
   "metadata": {},
   "outputs": [],
   "source": [
    "import pandas as pd\n"
   ]
  },
  {
   "cell_type": "markdown",
   "metadata": {},
   "source": [
    "## Ejercicio Naive Bayes: Spam or ham\n",
    "\n",
    "Vamos a crear nuestro propio filtro de *spam* a partir de los mensajes SMS que contiene el zip *smsspamcollection*.\n",
    "\n",
    "Para esta práctica vamos a usar el clasificador *Naive Bayes* como ya sabeis es un clasificador probabilístico. Antes de empezar debeis leer el fichero *readme* que se proporciona con la base de datos."
   ]
  },
  {
   "cell_type": "code",
   "execution_count": 6,
   "metadata": {},
   "outputs": [
    {
     "data": {
      "text/plain": [
       "(5572, 2)"
      ]
     },
     "execution_count": 6,
     "metadata": {},
     "output_type": "execute_result"
    }
   ],
   "source": [
    "# Dataset from - https://archive.ics.uci.edu/ml/datasets/SMS+Spam+Collection\n",
    "df = pd.read_table('data/SMSSpamCollection',\n",
    "                   sep='\\t',\n",
    "                   header=None,\n",
    "                   names=['label', 'sms_message'])\n"
   ]
  },
  {
   "cell_type": "markdown",
   "metadata": {},
   "source": [
    "### Ejercicio 0\n",
    "¿Cúantas observaciones hay en el conjunto de datos?\n",
    "\n",
    "¿Cúantas son de spam? \n",
    "\n",
    "¿Cúantas son de mensajes normales?"
   ]
  },
  {
   "cell_type": "markdown",
   "metadata": {},
   "source": [
    "### Ejercicio 1\n",
    "En primer lugar debemos limpiar los datos, alguna de las acciones que se recomienda realizar es:\n",
    "    \n",
    "* [Poner el texto en minúscula](https://pandas.pydata.org/pandas-docs/stable/reference/api/pandas.Series.str.lower.html)\n",
    "* [Eliminar signos de puntuación](https://www.geeksforgeeks.org/string-punctuation-in-python)\n",
    "* [Separar el texto restante en palabras](https://docs.python.org/3.7/library/stdtypes.html#str.split)\n",
    "* Eliminar palabras muy cortas / carentes de significado por ellas mismas y los números.\n"
   ]
  },
  {
   "cell_type": "markdown",
   "metadata": {},
   "source": [
    "Finalmente deberíamos contar la frecuencia de aparición de cada palabra antes de poder aplicar el clasificador."
   ]
  },
  {
   "cell_type": "markdown",
   "metadata": {},
   "source": [
    "### Ejercicio 2\n",
    "\n",
    "Realmente este proceso es muy tedioso, scikit-learn nos proporciona la clase [CountVectorizer](https://scikit-learn.org/stable/modules/generated/sklearn.feature_extraction.text.CountVectorizer.html). Usa esta clase para preparar tus datos y obtener una lista de las palabras que aparecen en el texto junto a su frecuencia\n",
    "\n",
    "Si quieres eliminar los números usa el siguiente parámetro: ``` token_pattern=r'\\b[^\\d\\W]+\\b'```\n",
    "\n",
    "El método ```get_feature_names``` nos devuelve una lista con los tokens obtenidos"
   ]
  },
  {
   "cell_type": "markdown",
   "metadata": {},
   "source": [
    "### Ejercicio 3\n",
    "\n",
    "Visualizar el nuevo conjunto de datos en forma de dataframe. Esto nos proporcionará una diea del proceso que hemos llevado a cabo\n",
    "\n"
   ]
  },
  {
   "cell_type": "markdown",
   "metadata": {},
   "source": [
    "### Ejercicio 4\n",
    "\n",
    "Ahora que sabemos crear los elementos que usaremos para clasificar. Es el momento de aplicar el proceso de aprendizaje automático tal y como lo conocemos.\n",
    "\n",
    "* **Dividir** el conjunto de datos.\n",
    "* **Obtener las palabras** sobre el conjunto de entrenamiento.\n",
    "* **Aprendizaje** sobre este conjunto. Como ya hemos visto, los métodos de clasificación se usan de la misma manera: [documentación Naive Bayes](https://scikit-learn.org/stable/modules/generated/sklearn.naive_bayes.MultinomialNB.html)\n",
    "* **Validación del resultado**: Para ello vamos a usar la función ```classification_report ``` [documentación](https://scikit-learn.org/stable/modules/classes.html#classification-metrics)."
   ]
  }
 ],
 "metadata": {
  "kernelspec": {
   "display_name": "Python 3",
   "language": "python",
   "name": "python3"
  },
  "language_info": {
   "codemirror_mode": {
    "name": "ipython",
    "version": 3
   },
   "file_extension": ".py",
   "mimetype": "text/x-python",
   "name": "python",
   "nbconvert_exporter": "python",
   "pygments_lexer": "ipython3",
   "version": "3.7.4"
  }
 },
 "nbformat": 4,
 "nbformat_minor": 2
}
